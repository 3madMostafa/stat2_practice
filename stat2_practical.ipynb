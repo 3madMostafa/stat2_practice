{
  "cells": [
    {
      "cell_type": "code",
      "execution_count": null,
      "metadata": {
        "id": "c5d422b3"
      },
      "outputs": [],
      "source": [
        "import numpy as np\n",
        "import pandas as pd\n",
        "import seaborn as sns\n",
        "import matplotlib.pyplot as plt"
      ],
      "id": "c5d422b3"
    },
    {
      "cell_type": "code",
      "execution_count": null,
      "metadata": {
        "id": "0954860b"
      },
      "outputs": [],
      "source": [
        "df = pd.read_csv(r\"/content/student_data.csv\")"
      ],
      "id": "0954860b"
    },
    {
      "cell_type": "code",
      "execution_count": null,
      "metadata": {
        "colab": {
          "base_uri": "https://localhost:8080/",
          "height": 235
        },
        "id": "b560f596",
        "outputId": "d0a12ceb-6ad6-405e-8ef6-4f0fed79cfbd"
      },
      "outputs": [
        {
          "data": {
            "application/vnd.google.colaboratory.intrinsic+json": {
              "type": "dataframe",
              "variable_name": "df"
            },
            "text/html": [
              "\n",
              "  <div id=\"df-4f3e3d1e-f6b9-43f5-9411-1565f2bdb80f\" class=\"colab-df-container\">\n",
              "    <div>\n",
              "<style scoped>\n",
              "    .dataframe tbody tr th:only-of-type {\n",
              "        vertical-align: middle;\n",
              "    }\n",
              "\n",
              "    .dataframe tbody tr th {\n",
              "        vertical-align: top;\n",
              "    }\n",
              "\n",
              "    .dataframe thead th {\n",
              "        text-align: right;\n",
              "    }\n",
              "</style>\n",
              "<table border=\"1\" class=\"dataframe\">\n",
              "  <thead>\n",
              "    <tr style=\"text-align: right;\">\n",
              "      <th></th>\n",
              "      <th>school</th>\n",
              "      <th>sex</th>\n",
              "      <th>age</th>\n",
              "      <th>address</th>\n",
              "      <th>famsize</th>\n",
              "      <th>Pstatus</th>\n",
              "      <th>Medu</th>\n",
              "      <th>Fedu</th>\n",
              "      <th>Mjob</th>\n",
              "      <th>Fjob</th>\n",
              "      <th>...</th>\n",
              "      <th>famrel</th>\n",
              "      <th>freetime</th>\n",
              "      <th>goout</th>\n",
              "      <th>Dalc</th>\n",
              "      <th>Walc</th>\n",
              "      <th>health</th>\n",
              "      <th>absences</th>\n",
              "      <th>G1</th>\n",
              "      <th>G2</th>\n",
              "      <th>G3</th>\n",
              "    </tr>\n",
              "  </thead>\n",
              "  <tbody>\n",
              "    <tr>\n",
              "      <th>0</th>\n",
              "      <td>GP</td>\n",
              "      <td>F</td>\n",
              "      <td>18</td>\n",
              "      <td>U</td>\n",
              "      <td>GT3</td>\n",
              "      <td>A</td>\n",
              "      <td>4</td>\n",
              "      <td>4</td>\n",
              "      <td>at_home</td>\n",
              "      <td>teacher</td>\n",
              "      <td>...</td>\n",
              "      <td>4</td>\n",
              "      <td>3</td>\n",
              "      <td>4</td>\n",
              "      <td>1</td>\n",
              "      <td>1</td>\n",
              "      <td>3</td>\n",
              "      <td>6</td>\n",
              "      <td>5</td>\n",
              "      <td>6</td>\n",
              "      <td>6</td>\n",
              "    </tr>\n",
              "    <tr>\n",
              "      <th>1</th>\n",
              "      <td>GP</td>\n",
              "      <td>F</td>\n",
              "      <td>17</td>\n",
              "      <td>U</td>\n",
              "      <td>GT3</td>\n",
              "      <td>T</td>\n",
              "      <td>1</td>\n",
              "      <td>1</td>\n",
              "      <td>at_home</td>\n",
              "      <td>other</td>\n",
              "      <td>...</td>\n",
              "      <td>5</td>\n",
              "      <td>3</td>\n",
              "      <td>3</td>\n",
              "      <td>1</td>\n",
              "      <td>1</td>\n",
              "      <td>3</td>\n",
              "      <td>4</td>\n",
              "      <td>5</td>\n",
              "      <td>5</td>\n",
              "      <td>6</td>\n",
              "    </tr>\n",
              "    <tr>\n",
              "      <th>2</th>\n",
              "      <td>GP</td>\n",
              "      <td>F</td>\n",
              "      <td>15</td>\n",
              "      <td>U</td>\n",
              "      <td>LE3</td>\n",
              "      <td>T</td>\n",
              "      <td>1</td>\n",
              "      <td>1</td>\n",
              "      <td>at_home</td>\n",
              "      <td>other</td>\n",
              "      <td>...</td>\n",
              "      <td>4</td>\n",
              "      <td>3</td>\n",
              "      <td>2</td>\n",
              "      <td>2</td>\n",
              "      <td>3</td>\n",
              "      <td>3</td>\n",
              "      <td>10</td>\n",
              "      <td>7</td>\n",
              "      <td>8</td>\n",
              "      <td>10</td>\n",
              "    </tr>\n",
              "    <tr>\n",
              "      <th>3</th>\n",
              "      <td>GP</td>\n",
              "      <td>F</td>\n",
              "      <td>15</td>\n",
              "      <td>U</td>\n",
              "      <td>GT3</td>\n",
              "      <td>T</td>\n",
              "      <td>4</td>\n",
              "      <td>2</td>\n",
              "      <td>health</td>\n",
              "      <td>services</td>\n",
              "      <td>...</td>\n",
              "      <td>3</td>\n",
              "      <td>2</td>\n",
              "      <td>2</td>\n",
              "      <td>1</td>\n",
              "      <td>1</td>\n",
              "      <td>5</td>\n",
              "      <td>2</td>\n",
              "      <td>15</td>\n",
              "      <td>14</td>\n",
              "      <td>15</td>\n",
              "    </tr>\n",
              "    <tr>\n",
              "      <th>4</th>\n",
              "      <td>GP</td>\n",
              "      <td>F</td>\n",
              "      <td>16</td>\n",
              "      <td>U</td>\n",
              "      <td>GT3</td>\n",
              "      <td>T</td>\n",
              "      <td>3</td>\n",
              "      <td>3</td>\n",
              "      <td>other</td>\n",
              "      <td>other</td>\n",
              "      <td>...</td>\n",
              "      <td>4</td>\n",
              "      <td>3</td>\n",
              "      <td>2</td>\n",
              "      <td>1</td>\n",
              "      <td>2</td>\n",
              "      <td>5</td>\n",
              "      <td>4</td>\n",
              "      <td>6</td>\n",
              "      <td>10</td>\n",
              "      <td>10</td>\n",
              "    </tr>\n",
              "  </tbody>\n",
              "</table>\n",
              "<p>5 rows × 33 columns</p>\n",
              "</div>\n",
              "    <div class=\"colab-df-buttons\">\n",
              "\n",
              "  <div class=\"colab-df-container\">\n",
              "    <button class=\"colab-df-convert\" onclick=\"convertToInteractive('df-4f3e3d1e-f6b9-43f5-9411-1565f2bdb80f')\"\n",
              "            title=\"Convert this dataframe to an interactive table.\"\n",
              "            style=\"display:none;\">\n",
              "\n",
              "  <svg xmlns=\"http://www.w3.org/2000/svg\" height=\"24px\" viewBox=\"0 -960 960 960\">\n",
              "    <path d=\"M120-120v-720h720v720H120Zm60-500h600v-160H180v160Zm220 220h160v-160H400v160Zm0 220h160v-160H400v160ZM180-400h160v-160H180v160Zm440 0h160v-160H620v160ZM180-180h160v-160H180v160Zm440 0h160v-160H620v160Z\"/>\n",
              "  </svg>\n",
              "    </button>\n",
              "\n",
              "  <style>\n",
              "    .colab-df-container {\n",
              "      display:flex;\n",
              "      gap: 12px;\n",
              "    }\n",
              "\n",
              "    .colab-df-convert {\n",
              "      background-color: #E8F0FE;\n",
              "      border: none;\n",
              "      border-radius: 50%;\n",
              "      cursor: pointer;\n",
              "      display: none;\n",
              "      fill: #1967D2;\n",
              "      height: 32px;\n",
              "      padding: 0 0 0 0;\n",
              "      width: 32px;\n",
              "    }\n",
              "\n",
              "    .colab-df-convert:hover {\n",
              "      background-color: #E2EBFA;\n",
              "      box-shadow: 0px 1px 2px rgba(60, 64, 67, 0.3), 0px 1px 3px 1px rgba(60, 64, 67, 0.15);\n",
              "      fill: #174EA6;\n",
              "    }\n",
              "\n",
              "    .colab-df-buttons div {\n",
              "      margin-bottom: 4px;\n",
              "    }\n",
              "\n",
              "    [theme=dark] .colab-df-convert {\n",
              "      background-color: #3B4455;\n",
              "      fill: #D2E3FC;\n",
              "    }\n",
              "\n",
              "    [theme=dark] .colab-df-convert:hover {\n",
              "      background-color: #434B5C;\n",
              "      box-shadow: 0px 1px 3px 1px rgba(0, 0, 0, 0.15);\n",
              "      filter: drop-shadow(0px 1px 2px rgba(0, 0, 0, 0.3));\n",
              "      fill: #FFFFFF;\n",
              "    }\n",
              "  </style>\n",
              "\n",
              "    <script>\n",
              "      const buttonEl =\n",
              "        document.querySelector('#df-4f3e3d1e-f6b9-43f5-9411-1565f2bdb80f button.colab-df-convert');\n",
              "      buttonEl.style.display =\n",
              "        google.colab.kernel.accessAllowed ? 'block' : 'none';\n",
              "\n",
              "      async function convertToInteractive(key) {\n",
              "        const element = document.querySelector('#df-4f3e3d1e-f6b9-43f5-9411-1565f2bdb80f');\n",
              "        const dataTable =\n",
              "          await google.colab.kernel.invokeFunction('convertToInteractive',\n",
              "                                                    [key], {});\n",
              "        if (!dataTable) return;\n",
              "\n",
              "        const docLinkHtml = 'Like what you see? Visit the ' +\n",
              "          '<a target=\"_blank\" href=https://colab.research.google.com/notebooks/data_table.ipynb>data table notebook</a>'\n",
              "          + ' to learn more about interactive tables.';\n",
              "        element.innerHTML = '';\n",
              "        dataTable['output_type'] = 'display_data';\n",
              "        await google.colab.output.renderOutput(dataTable, element);\n",
              "        const docLink = document.createElement('div');\n",
              "        docLink.innerHTML = docLinkHtml;\n",
              "        element.appendChild(docLink);\n",
              "      }\n",
              "    </script>\n",
              "  </div>\n",
              "\n",
              "\n",
              "<div id=\"df-394d7ee5-aff7-43ec-b05d-191063d6f428\">\n",
              "  <button class=\"colab-df-quickchart\" onclick=\"quickchart('df-394d7ee5-aff7-43ec-b05d-191063d6f428')\"\n",
              "            title=\"Suggest charts\"\n",
              "            style=\"display:none;\">\n",
              "\n",
              "<svg xmlns=\"http://www.w3.org/2000/svg\" height=\"24px\"viewBox=\"0 0 24 24\"\n",
              "     width=\"24px\">\n",
              "    <g>\n",
              "        <path d=\"M19 3H5c-1.1 0-2 .9-2 2v14c0 1.1.9 2 2 2h14c1.1 0 2-.9 2-2V5c0-1.1-.9-2-2-2zM9 17H7v-7h2v7zm4 0h-2V7h2v10zm4 0h-2v-4h2v4z\"/>\n",
              "    </g>\n",
              "</svg>\n",
              "  </button>\n",
              "\n",
              "<style>\n",
              "  .colab-df-quickchart {\n",
              "      --bg-color: #E8F0FE;\n",
              "      --fill-color: #1967D2;\n",
              "      --hover-bg-color: #E2EBFA;\n",
              "      --hover-fill-color: #174EA6;\n",
              "      --disabled-fill-color: #AAA;\n",
              "      --disabled-bg-color: #DDD;\n",
              "  }\n",
              "\n",
              "  [theme=dark] .colab-df-quickchart {\n",
              "      --bg-color: #3B4455;\n",
              "      --fill-color: #D2E3FC;\n",
              "      --hover-bg-color: #434B5C;\n",
              "      --hover-fill-color: #FFFFFF;\n",
              "      --disabled-bg-color: #3B4455;\n",
              "      --disabled-fill-color: #666;\n",
              "  }\n",
              "\n",
              "  .colab-df-quickchart {\n",
              "    background-color: var(--bg-color);\n",
              "    border: none;\n",
              "    border-radius: 50%;\n",
              "    cursor: pointer;\n",
              "    display: none;\n",
              "    fill: var(--fill-color);\n",
              "    height: 32px;\n",
              "    padding: 0;\n",
              "    width: 32px;\n",
              "  }\n",
              "\n",
              "  .colab-df-quickchart:hover {\n",
              "    background-color: var(--hover-bg-color);\n",
              "    box-shadow: 0 1px 2px rgba(60, 64, 67, 0.3), 0 1px 3px 1px rgba(60, 64, 67, 0.15);\n",
              "    fill: var(--button-hover-fill-color);\n",
              "  }\n",
              "\n",
              "  .colab-df-quickchart-complete:disabled,\n",
              "  .colab-df-quickchart-complete:disabled:hover {\n",
              "    background-color: var(--disabled-bg-color);\n",
              "    fill: var(--disabled-fill-color);\n",
              "    box-shadow: none;\n",
              "  }\n",
              "\n",
              "  .colab-df-spinner {\n",
              "    border: 2px solid var(--fill-color);\n",
              "    border-color: transparent;\n",
              "    border-bottom-color: var(--fill-color);\n",
              "    animation:\n",
              "      spin 1s steps(1) infinite;\n",
              "  }\n",
              "\n",
              "  @keyframes spin {\n",
              "    0% {\n",
              "      border-color: transparent;\n",
              "      border-bottom-color: var(--fill-color);\n",
              "      border-left-color: var(--fill-color);\n",
              "    }\n",
              "    20% {\n",
              "      border-color: transparent;\n",
              "      border-left-color: var(--fill-color);\n",
              "      border-top-color: var(--fill-color);\n",
              "    }\n",
              "    30% {\n",
              "      border-color: transparent;\n",
              "      border-left-color: var(--fill-color);\n",
              "      border-top-color: var(--fill-color);\n",
              "      border-right-color: var(--fill-color);\n",
              "    }\n",
              "    40% {\n",
              "      border-color: transparent;\n",
              "      border-right-color: var(--fill-color);\n",
              "      border-top-color: var(--fill-color);\n",
              "    }\n",
              "    60% {\n",
              "      border-color: transparent;\n",
              "      border-right-color: var(--fill-color);\n",
              "    }\n",
              "    80% {\n",
              "      border-color: transparent;\n",
              "      border-right-color: var(--fill-color);\n",
              "      border-bottom-color: var(--fill-color);\n",
              "    }\n",
              "    90% {\n",
              "      border-color: transparent;\n",
              "      border-bottom-color: var(--fill-color);\n",
              "    }\n",
              "  }\n",
              "</style>\n",
              "\n",
              "  <script>\n",
              "    async function quickchart(key) {\n",
              "      const quickchartButtonEl =\n",
              "        document.querySelector('#' + key + ' button');\n",
              "      quickchartButtonEl.disabled = true;  // To prevent multiple clicks.\n",
              "      quickchartButtonEl.classList.add('colab-df-spinner');\n",
              "      try {\n",
              "        const charts = await google.colab.kernel.invokeFunction(\n",
              "            'suggestCharts', [key], {});\n",
              "      } catch (error) {\n",
              "        console.error('Error during call to suggestCharts:', error);\n",
              "      }\n",
              "      quickchartButtonEl.classList.remove('colab-df-spinner');\n",
              "      quickchartButtonEl.classList.add('colab-df-quickchart-complete');\n",
              "    }\n",
              "    (() => {\n",
              "      let quickchartButtonEl =\n",
              "        document.querySelector('#df-394d7ee5-aff7-43ec-b05d-191063d6f428 button');\n",
              "      quickchartButtonEl.style.display =\n",
              "        google.colab.kernel.accessAllowed ? 'block' : 'none';\n",
              "    })();\n",
              "  </script>\n",
              "</div>\n",
              "\n",
              "    </div>\n",
              "  </div>\n"
            ],
            "text/plain": [
              "  school sex  age address famsize Pstatus  Medu  Fedu     Mjob      Fjob  ...  \\\n",
              "0     GP   F   18       U     GT3       A     4     4  at_home   teacher  ...   \n",
              "1     GP   F   17       U     GT3       T     1     1  at_home     other  ...   \n",
              "2     GP   F   15       U     LE3       T     1     1  at_home     other  ...   \n",
              "3     GP   F   15       U     GT3       T     4     2   health  services  ...   \n",
              "4     GP   F   16       U     GT3       T     3     3    other     other  ...   \n",
              "\n",
              "  famrel freetime  goout  Dalc  Walc health absences  G1  G2  G3  \n",
              "0      4        3      4     1     1      3        6   5   6   6  \n",
              "1      5        3      3     1     1      3        4   5   5   6  \n",
              "2      4        3      2     2     3      3       10   7   8  10  \n",
              "3      3        2      2     1     1      5        2  15  14  15  \n",
              "4      4        3      2     1     2      5        4   6  10  10  \n",
              "\n",
              "[5 rows x 33 columns]"
            ]
          },
          "execution_count": 3,
          "metadata": {},
          "output_type": "execute_result"
        }
      ],
      "source": [
        "df.head()"
      ],
      "id": "b560f596"
    },
    {
      "cell_type": "markdown",
      "metadata": {
        "id": "d444588f"
      },
      "source": [
        "### Now let's understand those columns\n",
        "\n",
        "school - student’s school (binary: ‘GP’ - Gabriel Pereira or ‘MS’ - Mousinho da Silveira)\n",
        "\n",
        "sex - student’s sex (binary: ‘F’ - female or ‘M’ - male)\n",
        "\n",
        "age - student’s age (numeric: from 15 to 22)\n",
        "\n",
        "address - student’s home address type (binary: ‘U’ - urban or ‘R’ - rural)\n",
        "\n",
        "famsize - family size (binary: ‘LE3’ - less or equal to 3 or ‘GT3’ - greater than 3)\n",
        "\n",
        "Pstatus - parent’s cohabitation status (binary: ‘T’ - living together or ‘A’ - apart)\n",
        "\n",
        "Medu - mother’s education (numeric: 0 - none, 1 - primary education (4th grade), 2 - 5th to 9th grade, 3 - secondary education or 4 - higher education)\n",
        "\n",
        "Fedu - father’s education (numeric: 0 - none, 1 - primary education (4th grade), 2 - 5th to 9th grade, 3 - secondary education or 4 - higher education)\n",
        "\n",
        "Mjob - mother’s job (nominal: ‘teacher’, ‘health’ care related, civil ‘services’ (e.g. administrative or police), ‘at_home’ or ‘other’)\n",
        "\n",
        "Fjob - father’s job (nominal: ‘teacher’, ‘health’ care related, civil ‘services’ (e.g. administrative or police), ‘at_home’ or ‘other’)\n",
        "\n",
        "reason - reason to choose this school (nominal: close to ‘home’, school ‘reputation’, ‘course’ preference or ‘other’)\n",
        "\n",
        "guardian - student’s guardian (nominal: ‘mother’, ‘father’ or ‘other’)\n",
        "\n",
        "traveltime - home to school travel time (numeric: 1 - <15 min., 2 - 15 to 30 min., 3 - 30 min. to 1 hour, or 4 - >1 hour)\n",
        "\n",
        "studytime - weekly study time (numeric: 1 - <2 hours, 2 - 2 to 5 hours, 3 - 5 to 10 hours, or 4 - >10 hours)\n",
        "\n",
        "failures - number of past class failures (numeric: n if 1<=n<3, else 4)\n",
        "\n",
        "schoolsup - extra educational support (binary: yes or no)\n",
        "\n",
        "famsup - family educational support (binary: yes or no)\n",
        "\n",
        "paid - extra paid classes within the course subject (Portuguese) (binary: yes or no)\n",
        "\n",
        "activities - extra-curricular activities (binary: yes or no)\n",
        "\n",
        "nursery - attended nursery school (binary: yes or no)\n",
        "\n",
        "higher - wants to take higher education (binary: yes or no)\n",
        "\n",
        "internet - Internet access at home (binary: yes or no)\n",
        "\n",
        "romantic - with a romantic relationship (binary: yes or no)\n",
        "\n",
        "famrel - quality of family relationships (numeric: from 1 - very bad to 5 - excellent)\n",
        "\n",
        "freetime - free time after school (numeric: from 1 - very low to 5 - very high)\n",
        "\n",
        "goout - going out with friends (numeric: from 1 - very low to 5 - very high)\n",
        "\n",
        "Dalc - workday alcohol consumption (numeric: from 1 - very low to 5 - very high)\n",
        "\n",
        "Walc - weekend alcohol consumption (numeric: from 1 - very low to 5 - very high)\n",
        "\n",
        "health - current health status (numeric: from 1 - very bad to 5 - very good)\n",
        "\n",
        "absences - number of school absences (numeric: from 0 to 93)\n",
        "\n",
        "G1 - first period grade (numeric: from 0 to 20)\n",
        "\n",
        "G2 - second period grade (numeric: from 0 to 20)\n",
        "\n",
        "G3 - final grade (numeric: from 0 to 20, output target)"
      ],
      "id": "d444588f"
    },
    {
      "cell_type": "code",
      "execution_count": null,
      "metadata": {
        "colab": {
          "base_uri": "https://localhost:8080/",
          "height": 320
        },
        "id": "33797e0b",
        "outputId": "706ab0af-b74f-4a82-eab0-1bcfa71d57df"
      },
      "outputs": [
        {
          "data": {
            "application/vnd.google.colaboratory.intrinsic+json": {
              "summary": "{\n  \"name\": \"df\",\n  \"rows\": 8,\n  \"fields\": [\n    {\n      \"column\": \"age\",\n      \"properties\": {\n        \"dtype\": \"number\",\n        \"std\": 134.436252896189,\n        \"min\": 1.2760427246056283,\n        \"max\": 395.0,\n        \"num_unique_values\": 8,\n        \"samples\": [\n          16.696202531645568,\n          17.0,\n          395.0\n        ],\n        \"semantic_type\": \"\",\n        \"description\": \"\"\n      }\n    },\n    {\n      \"column\": \"Medu\",\n      \"properties\": {\n        \"dtype\": \"number\",\n        \"std\": 138.80963938157987,\n        \"min\": 0.0,\n        \"max\": 395.0,\n        \"num_unique_values\": 7,\n        \"samples\": [\n          395.0,\n          2.749367088607595,\n          3.0\n        ],\n        \"semantic_type\": \"\",\n        \"description\": \"\"\n      }\n    },\n    {\n      \"column\": \"Fedu\",\n      \"properties\": {\n        \"dtype\": \"number\",\n        \"std\": 138.92085462409693,\n        \"min\": 0.0,\n        \"max\": 395.0,\n        \"num_unique_values\": 7,\n        \"samples\": [\n          395.0,\n          2.5215189873417723,\n          3.0\n        ],\n        \"semantic_type\": \"\",\n        \"description\": \"\"\n      }\n    },\n    {\n      \"column\": \"traveltime\",\n      \"properties\": {\n        \"dtype\": \"number\",\n        \"std\": 139.0946757987501,\n        \"min\": 0.6975047549086825,\n        \"max\": 395.0,\n        \"num_unique_values\": 6,\n        \"samples\": [\n          395.0,\n          1.4481012658227848,\n          4.0\n        ],\n        \"semantic_type\": \"\",\n        \"description\": \"\"\n      }\n    },\n    {\n      \"column\": \"studytime\",\n      \"properties\": {\n        \"dtype\": \"number\",\n        \"std\": 139.00700274471274,\n        \"min\": 0.8392403464185556,\n        \"max\": 395.0,\n        \"num_unique_values\": 6,\n        \"samples\": [\n          395.0,\n          2.0354430379746837,\n          4.0\n        ],\n        \"semantic_type\": \"\",\n        \"description\": \"\"\n      }\n    },\n    {\n      \"column\": \"failures\",\n      \"properties\": {\n        \"dtype\": \"number\",\n        \"std\": 139.4513615014189,\n        \"min\": 0.0,\n        \"max\": 395.0,\n        \"num_unique_values\": 5,\n        \"samples\": [\n          0.3341772151898734,\n          3.0,\n          0.7436509736062507\n        ],\n        \"semantic_type\": \"\",\n        \"description\": \"\"\n      }\n    },\n    {\n      \"column\": \"famrel\",\n      \"properties\": {\n        \"dtype\": \"number\",\n        \"std\": 138.45880901426744,\n        \"min\": 0.8966586076885047,\n        \"max\": 395.0,\n        \"num_unique_values\": 6,\n        \"samples\": [\n          395.0,\n          3.9443037974683546,\n          5.0\n        ],\n        \"semantic_type\": \"\",\n        \"description\": \"\"\n      }\n    },\n    {\n      \"column\": \"freetime\",\n      \"properties\": {\n        \"dtype\": \"number\",\n        \"std\": 138.63828826062982,\n        \"min\": 0.9988620396657205,\n        \"max\": 395.0,\n        \"num_unique_values\": 7,\n        \"samples\": [\n          395.0,\n          3.2354430379746835,\n          4.0\n        ],\n        \"semantic_type\": \"\",\n        \"description\": \"\"\n      }\n    },\n    {\n      \"column\": \"goout\",\n      \"properties\": {\n        \"dtype\": \"number\",\n        \"std\": 138.68948196584594,\n        \"min\": 1.0,\n        \"max\": 395.0,\n        \"num_unique_values\": 8,\n        \"samples\": [\n          3.108860759493671,\n          3.0,\n          395.0\n        ],\n        \"semantic_type\": \"\",\n        \"description\": \"\"\n      }\n    },\n    {\n      \"column\": \"Dalc\",\n      \"properties\": {\n        \"dtype\": \"number\",\n        \"std\": 139.03546236501012,\n        \"min\": 0.8907414280909669,\n        \"max\": 395.0,\n        \"num_unique_values\": 6,\n        \"samples\": [\n          395.0,\n          1.481012658227848,\n          5.0\n        ],\n        \"semantic_type\": \"\",\n        \"description\": \"\"\n      }\n    },\n    {\n      \"column\": \"Walc\",\n      \"properties\": {\n        \"dtype\": \"number\",\n        \"std\": 138.87302263653973,\n        \"min\": 1.0,\n        \"max\": 395.0,\n        \"num_unique_values\": 7,\n        \"samples\": [\n          395.0,\n          2.2911392405063293,\n          3.0\n        ],\n        \"semantic_type\": \"\",\n        \"description\": \"\"\n      }\n    },\n    {\n      \"column\": \"health\",\n      \"properties\": {\n        \"dtype\": \"number\",\n        \"std\": 138.50262599778412,\n        \"min\": 1.0,\n        \"max\": 395.0,\n        \"num_unique_values\": 7,\n        \"samples\": [\n          395.0,\n          3.5544303797468353,\n          4.0\n        ],\n        \"semantic_type\": \"\",\n        \"description\": \"\"\n      }\n    },\n    {\n      \"column\": \"absences\",\n      \"properties\": {\n        \"dtype\": \"number\",\n        \"std\": 136.85777166785417,\n        \"min\": 0.0,\n        \"max\": 395.0,\n        \"num_unique_values\": 7,\n        \"samples\": [\n          395.0,\n          5.708860759493671,\n          8.0\n        ],\n        \"semantic_type\": \"\",\n        \"description\": \"\"\n      }\n    },\n    {\n      \"column\": \"G1\",\n      \"properties\": {\n        \"dtype\": \"number\",\n        \"std\": 136.30663508587594,\n        \"min\": 3.0,\n        \"max\": 395.0,\n        \"num_unique_values\": 8,\n        \"samples\": [\n          10.90886075949367,\n          11.0,\n          395.0\n        ],\n        \"semantic_type\": \"\",\n        \"description\": \"\"\n      }\n    },\n    {\n      \"column\": \"G2\",\n      \"properties\": {\n        \"dtype\": \"number\",\n        \"std\": 136.4163745266465,\n        \"min\": 0.0,\n        \"max\": 395.0,\n        \"num_unique_values\": 8,\n        \"samples\": [\n          10.713924050632912,\n          11.0,\n          395.0\n        ],\n        \"semantic_type\": \"\",\n        \"description\": \"\"\n      }\n    },\n    {\n      \"column\": \"G3\",\n      \"properties\": {\n        \"dtype\": \"number\",\n        \"std\": 136.35024783099098,\n        \"min\": 0.0,\n        \"max\": 395.0,\n        \"num_unique_values\": 8,\n        \"samples\": [\n          10.415189873417722,\n          11.0,\n          395.0\n        ],\n        \"semantic_type\": \"\",\n        \"description\": \"\"\n      }\n    }\n  ]\n}",
              "type": "dataframe"
            },
            "text/html": [
              "\n",
              "  <div id=\"df-82580054-23f1-4ec9-b1ef-e7fab64a14a4\" class=\"colab-df-container\">\n",
              "    <div>\n",
              "<style scoped>\n",
              "    .dataframe tbody tr th:only-of-type {\n",
              "        vertical-align: middle;\n",
              "    }\n",
              "\n",
              "    .dataframe tbody tr th {\n",
              "        vertical-align: top;\n",
              "    }\n",
              "\n",
              "    .dataframe thead th {\n",
              "        text-align: right;\n",
              "    }\n",
              "</style>\n",
              "<table border=\"1\" class=\"dataframe\">\n",
              "  <thead>\n",
              "    <tr style=\"text-align: right;\">\n",
              "      <th></th>\n",
              "      <th>age</th>\n",
              "      <th>Medu</th>\n",
              "      <th>Fedu</th>\n",
              "      <th>traveltime</th>\n",
              "      <th>studytime</th>\n",
              "      <th>failures</th>\n",
              "      <th>famrel</th>\n",
              "      <th>freetime</th>\n",
              "      <th>goout</th>\n",
              "      <th>Dalc</th>\n",
              "      <th>Walc</th>\n",
              "      <th>health</th>\n",
              "      <th>absences</th>\n",
              "      <th>G1</th>\n",
              "      <th>G2</th>\n",
              "      <th>G3</th>\n",
              "    </tr>\n",
              "  </thead>\n",
              "  <tbody>\n",
              "    <tr>\n",
              "      <th>count</th>\n",
              "      <td>395.000000</td>\n",
              "      <td>395.000000</td>\n",
              "      <td>395.000000</td>\n",
              "      <td>395.000000</td>\n",
              "      <td>395.000000</td>\n",
              "      <td>395.000000</td>\n",
              "      <td>395.000000</td>\n",
              "      <td>395.000000</td>\n",
              "      <td>395.000000</td>\n",
              "      <td>395.000000</td>\n",
              "      <td>395.000000</td>\n",
              "      <td>395.000000</td>\n",
              "      <td>395.000000</td>\n",
              "      <td>395.000000</td>\n",
              "      <td>395.000000</td>\n",
              "      <td>395.000000</td>\n",
              "    </tr>\n",
              "    <tr>\n",
              "      <th>mean</th>\n",
              "      <td>16.696203</td>\n",
              "      <td>2.749367</td>\n",
              "      <td>2.521519</td>\n",
              "      <td>1.448101</td>\n",
              "      <td>2.035443</td>\n",
              "      <td>0.334177</td>\n",
              "      <td>3.944304</td>\n",
              "      <td>3.235443</td>\n",
              "      <td>3.108861</td>\n",
              "      <td>1.481013</td>\n",
              "      <td>2.291139</td>\n",
              "      <td>3.554430</td>\n",
              "      <td>5.708861</td>\n",
              "      <td>10.908861</td>\n",
              "      <td>10.713924</td>\n",
              "      <td>10.415190</td>\n",
              "    </tr>\n",
              "    <tr>\n",
              "      <th>std</th>\n",
              "      <td>1.276043</td>\n",
              "      <td>1.094735</td>\n",
              "      <td>1.088201</td>\n",
              "      <td>0.697505</td>\n",
              "      <td>0.839240</td>\n",
              "      <td>0.743651</td>\n",
              "      <td>0.896659</td>\n",
              "      <td>0.998862</td>\n",
              "      <td>1.113278</td>\n",
              "      <td>0.890741</td>\n",
              "      <td>1.287897</td>\n",
              "      <td>1.390303</td>\n",
              "      <td>8.003096</td>\n",
              "      <td>3.319195</td>\n",
              "      <td>3.761505</td>\n",
              "      <td>4.581443</td>\n",
              "    </tr>\n",
              "    <tr>\n",
              "      <th>min</th>\n",
              "      <td>15.000000</td>\n",
              "      <td>0.000000</td>\n",
              "      <td>0.000000</td>\n",
              "      <td>1.000000</td>\n",
              "      <td>1.000000</td>\n",
              "      <td>0.000000</td>\n",
              "      <td>1.000000</td>\n",
              "      <td>1.000000</td>\n",
              "      <td>1.000000</td>\n",
              "      <td>1.000000</td>\n",
              "      <td>1.000000</td>\n",
              "      <td>1.000000</td>\n",
              "      <td>0.000000</td>\n",
              "      <td>3.000000</td>\n",
              "      <td>0.000000</td>\n",
              "      <td>0.000000</td>\n",
              "    </tr>\n",
              "    <tr>\n",
              "      <th>25%</th>\n",
              "      <td>16.000000</td>\n",
              "      <td>2.000000</td>\n",
              "      <td>2.000000</td>\n",
              "      <td>1.000000</td>\n",
              "      <td>1.000000</td>\n",
              "      <td>0.000000</td>\n",
              "      <td>4.000000</td>\n",
              "      <td>3.000000</td>\n",
              "      <td>2.000000</td>\n",
              "      <td>1.000000</td>\n",
              "      <td>1.000000</td>\n",
              "      <td>3.000000</td>\n",
              "      <td>0.000000</td>\n",
              "      <td>8.000000</td>\n",
              "      <td>9.000000</td>\n",
              "      <td>8.000000</td>\n",
              "    </tr>\n",
              "    <tr>\n",
              "      <th>50%</th>\n",
              "      <td>17.000000</td>\n",
              "      <td>3.000000</td>\n",
              "      <td>2.000000</td>\n",
              "      <td>1.000000</td>\n",
              "      <td>2.000000</td>\n",
              "      <td>0.000000</td>\n",
              "      <td>4.000000</td>\n",
              "      <td>3.000000</td>\n",
              "      <td>3.000000</td>\n",
              "      <td>1.000000</td>\n",
              "      <td>2.000000</td>\n",
              "      <td>4.000000</td>\n",
              "      <td>4.000000</td>\n",
              "      <td>11.000000</td>\n",
              "      <td>11.000000</td>\n",
              "      <td>11.000000</td>\n",
              "    </tr>\n",
              "    <tr>\n",
              "      <th>75%</th>\n",
              "      <td>18.000000</td>\n",
              "      <td>4.000000</td>\n",
              "      <td>3.000000</td>\n",
              "      <td>2.000000</td>\n",
              "      <td>2.000000</td>\n",
              "      <td>0.000000</td>\n",
              "      <td>5.000000</td>\n",
              "      <td>4.000000</td>\n",
              "      <td>4.000000</td>\n",
              "      <td>2.000000</td>\n",
              "      <td>3.000000</td>\n",
              "      <td>5.000000</td>\n",
              "      <td>8.000000</td>\n",
              "      <td>13.000000</td>\n",
              "      <td>13.000000</td>\n",
              "      <td>14.000000</td>\n",
              "    </tr>\n",
              "    <tr>\n",
              "      <th>max</th>\n",
              "      <td>22.000000</td>\n",
              "      <td>4.000000</td>\n",
              "      <td>4.000000</td>\n",
              "      <td>4.000000</td>\n",
              "      <td>4.000000</td>\n",
              "      <td>3.000000</td>\n",
              "      <td>5.000000</td>\n",
              "      <td>5.000000</td>\n",
              "      <td>5.000000</td>\n",
              "      <td>5.000000</td>\n",
              "      <td>5.000000</td>\n",
              "      <td>5.000000</td>\n",
              "      <td>75.000000</td>\n",
              "      <td>19.000000</td>\n",
              "      <td>19.000000</td>\n",
              "      <td>20.000000</td>\n",
              "    </tr>\n",
              "  </tbody>\n",
              "</table>\n",
              "</div>\n",
              "    <div class=\"colab-df-buttons\">\n",
              "\n",
              "  <div class=\"colab-df-container\">\n",
              "    <button class=\"colab-df-convert\" onclick=\"convertToInteractive('df-82580054-23f1-4ec9-b1ef-e7fab64a14a4')\"\n",
              "            title=\"Convert this dataframe to an interactive table.\"\n",
              "            style=\"display:none;\">\n",
              "\n",
              "  <svg xmlns=\"http://www.w3.org/2000/svg\" height=\"24px\" viewBox=\"0 -960 960 960\">\n",
              "    <path d=\"M120-120v-720h720v720H120Zm60-500h600v-160H180v160Zm220 220h160v-160H400v160Zm0 220h160v-160H400v160ZM180-400h160v-160H180v160Zm440 0h160v-160H620v160ZM180-180h160v-160H180v160Zm440 0h160v-160H620v160Z\"/>\n",
              "  </svg>\n",
              "    </button>\n",
              "\n",
              "  <style>\n",
              "    .colab-df-container {\n",
              "      display:flex;\n",
              "      gap: 12px;\n",
              "    }\n",
              "\n",
              "    .colab-df-convert {\n",
              "      background-color: #E8F0FE;\n",
              "      border: none;\n",
              "      border-radius: 50%;\n",
              "      cursor: pointer;\n",
              "      display: none;\n",
              "      fill: #1967D2;\n",
              "      height: 32px;\n",
              "      padding: 0 0 0 0;\n",
              "      width: 32px;\n",
              "    }\n",
              "\n",
              "    .colab-df-convert:hover {\n",
              "      background-color: #E2EBFA;\n",
              "      box-shadow: 0px 1px 2px rgba(60, 64, 67, 0.3), 0px 1px 3px 1px rgba(60, 64, 67, 0.15);\n",
              "      fill: #174EA6;\n",
              "    }\n",
              "\n",
              "    .colab-df-buttons div {\n",
              "      margin-bottom: 4px;\n",
              "    }\n",
              "\n",
              "    [theme=dark] .colab-df-convert {\n",
              "      background-color: #3B4455;\n",
              "      fill: #D2E3FC;\n",
              "    }\n",
              "\n",
              "    [theme=dark] .colab-df-convert:hover {\n",
              "      background-color: #434B5C;\n",
              "      box-shadow: 0px 1px 3px 1px rgba(0, 0, 0, 0.15);\n",
              "      filter: drop-shadow(0px 1px 2px rgba(0, 0, 0, 0.3));\n",
              "      fill: #FFFFFF;\n",
              "    }\n",
              "  </style>\n",
              "\n",
              "    <script>\n",
              "      const buttonEl =\n",
              "        document.querySelector('#df-82580054-23f1-4ec9-b1ef-e7fab64a14a4 button.colab-df-convert');\n",
              "      buttonEl.style.display =\n",
              "        google.colab.kernel.accessAllowed ? 'block' : 'none';\n",
              "\n",
              "      async function convertToInteractive(key) {\n",
              "        const element = document.querySelector('#df-82580054-23f1-4ec9-b1ef-e7fab64a14a4');\n",
              "        const dataTable =\n",
              "          await google.colab.kernel.invokeFunction('convertToInteractive',\n",
              "                                                    [key], {});\n",
              "        if (!dataTable) return;\n",
              "\n",
              "        const docLinkHtml = 'Like what you see? Visit the ' +\n",
              "          '<a target=\"_blank\" href=https://colab.research.google.com/notebooks/data_table.ipynb>data table notebook</a>'\n",
              "          + ' to learn more about interactive tables.';\n",
              "        element.innerHTML = '';\n",
              "        dataTable['output_type'] = 'display_data';\n",
              "        await google.colab.output.renderOutput(dataTable, element);\n",
              "        const docLink = document.createElement('div');\n",
              "        docLink.innerHTML = docLinkHtml;\n",
              "        element.appendChild(docLink);\n",
              "      }\n",
              "    </script>\n",
              "  </div>\n",
              "\n",
              "\n",
              "<div id=\"df-563d60cc-7d9e-4200-8a15-cd6d9cfe49bd\">\n",
              "  <button class=\"colab-df-quickchart\" onclick=\"quickchart('df-563d60cc-7d9e-4200-8a15-cd6d9cfe49bd')\"\n",
              "            title=\"Suggest charts\"\n",
              "            style=\"display:none;\">\n",
              "\n",
              "<svg xmlns=\"http://www.w3.org/2000/svg\" height=\"24px\"viewBox=\"0 0 24 24\"\n",
              "     width=\"24px\">\n",
              "    <g>\n",
              "        <path d=\"M19 3H5c-1.1 0-2 .9-2 2v14c0 1.1.9 2 2 2h14c1.1 0 2-.9 2-2V5c0-1.1-.9-2-2-2zM9 17H7v-7h2v7zm4 0h-2V7h2v10zm4 0h-2v-4h2v4z\"/>\n",
              "    </g>\n",
              "</svg>\n",
              "  </button>\n",
              "\n",
              "<style>\n",
              "  .colab-df-quickchart {\n",
              "      --bg-color: #E8F0FE;\n",
              "      --fill-color: #1967D2;\n",
              "      --hover-bg-color: #E2EBFA;\n",
              "      --hover-fill-color: #174EA6;\n",
              "      --disabled-fill-color: #AAA;\n",
              "      --disabled-bg-color: #DDD;\n",
              "  }\n",
              "\n",
              "  [theme=dark] .colab-df-quickchart {\n",
              "      --bg-color: #3B4455;\n",
              "      --fill-color: #D2E3FC;\n",
              "      --hover-bg-color: #434B5C;\n",
              "      --hover-fill-color: #FFFFFF;\n",
              "      --disabled-bg-color: #3B4455;\n",
              "      --disabled-fill-color: #666;\n",
              "  }\n",
              "\n",
              "  .colab-df-quickchart {\n",
              "    background-color: var(--bg-color);\n",
              "    border: none;\n",
              "    border-radius: 50%;\n",
              "    cursor: pointer;\n",
              "    display: none;\n",
              "    fill: var(--fill-color);\n",
              "    height: 32px;\n",
              "    padding: 0;\n",
              "    width: 32px;\n",
              "  }\n",
              "\n",
              "  .colab-df-quickchart:hover {\n",
              "    background-color: var(--hover-bg-color);\n",
              "    box-shadow: 0 1px 2px rgba(60, 64, 67, 0.3), 0 1px 3px 1px rgba(60, 64, 67, 0.15);\n",
              "    fill: var(--button-hover-fill-color);\n",
              "  }\n",
              "\n",
              "  .colab-df-quickchart-complete:disabled,\n",
              "  .colab-df-quickchart-complete:disabled:hover {\n",
              "    background-color: var(--disabled-bg-color);\n",
              "    fill: var(--disabled-fill-color);\n",
              "    box-shadow: none;\n",
              "  }\n",
              "\n",
              "  .colab-df-spinner {\n",
              "    border: 2px solid var(--fill-color);\n",
              "    border-color: transparent;\n",
              "    border-bottom-color: var(--fill-color);\n",
              "    animation:\n",
              "      spin 1s steps(1) infinite;\n",
              "  }\n",
              "\n",
              "  @keyframes spin {\n",
              "    0% {\n",
              "      border-color: transparent;\n",
              "      border-bottom-color: var(--fill-color);\n",
              "      border-left-color: var(--fill-color);\n",
              "    }\n",
              "    20% {\n",
              "      border-color: transparent;\n",
              "      border-left-color: var(--fill-color);\n",
              "      border-top-color: var(--fill-color);\n",
              "    }\n",
              "    30% {\n",
              "      border-color: transparent;\n",
              "      border-left-color: var(--fill-color);\n",
              "      border-top-color: var(--fill-color);\n",
              "      border-right-color: var(--fill-color);\n",
              "    }\n",
              "    40% {\n",
              "      border-color: transparent;\n",
              "      border-right-color: var(--fill-color);\n",
              "      border-top-color: var(--fill-color);\n",
              "    }\n",
              "    60% {\n",
              "      border-color: transparent;\n",
              "      border-right-color: var(--fill-color);\n",
              "    }\n",
              "    80% {\n",
              "      border-color: transparent;\n",
              "      border-right-color: var(--fill-color);\n",
              "      border-bottom-color: var(--fill-color);\n",
              "    }\n",
              "    90% {\n",
              "      border-color: transparent;\n",
              "      border-bottom-color: var(--fill-color);\n",
              "    }\n",
              "  }\n",
              "</style>\n",
              "\n",
              "  <script>\n",
              "    async function quickchart(key) {\n",
              "      const quickchartButtonEl =\n",
              "        document.querySelector('#' + key + ' button');\n",
              "      quickchartButtonEl.disabled = true;  // To prevent multiple clicks.\n",
              "      quickchartButtonEl.classList.add('colab-df-spinner');\n",
              "      try {\n",
              "        const charts = await google.colab.kernel.invokeFunction(\n",
              "            'suggestCharts', [key], {});\n",
              "      } catch (error) {\n",
              "        console.error('Error during call to suggestCharts:', error);\n",
              "      }\n",
              "      quickchartButtonEl.classList.remove('colab-df-spinner');\n",
              "      quickchartButtonEl.classList.add('colab-df-quickchart-complete');\n",
              "    }\n",
              "    (() => {\n",
              "      let quickchartButtonEl =\n",
              "        document.querySelector('#df-563d60cc-7d9e-4200-8a15-cd6d9cfe49bd button');\n",
              "      quickchartButtonEl.style.display =\n",
              "        google.colab.kernel.accessAllowed ? 'block' : 'none';\n",
              "    })();\n",
              "  </script>\n",
              "</div>\n",
              "\n",
              "    </div>\n",
              "  </div>\n"
            ],
            "text/plain": [
              "              age        Medu        Fedu  traveltime   studytime    failures  \\\n",
              "count  395.000000  395.000000  395.000000  395.000000  395.000000  395.000000   \n",
              "mean    16.696203    2.749367    2.521519    1.448101    2.035443    0.334177   \n",
              "std      1.276043    1.094735    1.088201    0.697505    0.839240    0.743651   \n",
              "min     15.000000    0.000000    0.000000    1.000000    1.000000    0.000000   \n",
              "25%     16.000000    2.000000    2.000000    1.000000    1.000000    0.000000   \n",
              "50%     17.000000    3.000000    2.000000    1.000000    2.000000    0.000000   \n",
              "75%     18.000000    4.000000    3.000000    2.000000    2.000000    0.000000   \n",
              "max     22.000000    4.000000    4.000000    4.000000    4.000000    3.000000   \n",
              "\n",
              "           famrel    freetime       goout        Dalc        Walc      health  \\\n",
              "count  395.000000  395.000000  395.000000  395.000000  395.000000  395.000000   \n",
              "mean     3.944304    3.235443    3.108861    1.481013    2.291139    3.554430   \n",
              "std      0.896659    0.998862    1.113278    0.890741    1.287897    1.390303   \n",
              "min      1.000000    1.000000    1.000000    1.000000    1.000000    1.000000   \n",
              "25%      4.000000    3.000000    2.000000    1.000000    1.000000    3.000000   \n",
              "50%      4.000000    3.000000    3.000000    1.000000    2.000000    4.000000   \n",
              "75%      5.000000    4.000000    4.000000    2.000000    3.000000    5.000000   \n",
              "max      5.000000    5.000000    5.000000    5.000000    5.000000    5.000000   \n",
              "\n",
              "         absences          G1          G2          G3  \n",
              "count  395.000000  395.000000  395.000000  395.000000  \n",
              "mean     5.708861   10.908861   10.713924   10.415190  \n",
              "std      8.003096    3.319195    3.761505    4.581443  \n",
              "min      0.000000    3.000000    0.000000    0.000000  \n",
              "25%      0.000000    8.000000    9.000000    8.000000  \n",
              "50%      4.000000   11.000000   11.000000   11.000000  \n",
              "75%      8.000000   13.000000   13.000000   14.000000  \n",
              "max     75.000000   19.000000   19.000000   20.000000  "
            ]
          },
          "execution_count": 4,
          "metadata": {},
          "output_type": "execute_result"
        }
      ],
      "source": [
        "df.describe()"
      ],
      "id": "33797e0b"
    },
    {
      "cell_type": "markdown",
      "metadata": {
        "id": "0e5108b7"
      },
      "source": [
        "# data distributions"
      ],
      "id": "0e5108b7"
    },
    {
      "cell_type": "code",
      "execution_count": null,
      "metadata": {
        "colab": {
          "base_uri": "https://localhost:8080/"
        },
        "id": "201629df",
        "outputId": "5bae6e0f-15f2-4d07-cf76-704dd1b18bc7"
      },
      "outputs": [
        {
          "name": "stdout",
          "output_type": "stream",
          "text": [
            "quantative: ['Dalc', 'Fedu', 'G1', 'G2', 'G3', 'Medu', 'Walc', 'absences', 'age', 'failures', 'famrel', 'freetime', 'goout', 'health', 'studytime', 'traveltime']\n",
            "descriptive: ['Fjob', 'Mjob', 'Pstatus', 'activities', 'address', 'famsize', 'famsup', 'guardian', 'higher', 'internet', 'nursery', 'paid', 'reason', 'romantic', 'school', 'schoolsup', 'sex']\n"
          ]
        }
      ],
      "source": [
        "col_counts = dict(df.count(axis=0))\n",
        "col_types = {c: d for c, d in dict(df.dtypes).items()   if col_counts[c] > 10 }\n",
        "_is_num = lambda x: x in (np.int64, float)\n",
        "# separate them\n",
        "cols_numerical = sorted([col for col, dtp in col_types.items() if _is_num(dtp)])\n",
        "cols_string = sorted([col for col, dtp in col_types.items() if not _is_num(dtp)])\n",
        "print(f\"quantative: {cols_numerical}\")\n",
        "print(f\"descriptive: {cols_string}\")"
      ],
      "id": "201629df"
    },
    {
      "cell_type": "code",
      "execution_count": null,
      "metadata": {
        "id": "5f782ec5"
      },
      "outputs": [],
      "source": [
        "# Aesthetic configuration for seaborn and matplotlib\n",
        "plt.rcParams[\"font.family\"] = \"monospace\"\n",
        "sns.set_theme(style='darkgrid', palette='rocket')"
      ],
      "id": "5f782ec5"
    },
    {
      "cell_type": "markdown",
      "metadata": {
        "id": "bf67c5a5"
      },
      "source": [
        "# String Data Distributions"
      ],
      "id": "bf67c5a5"
    },
    {
      "cell_type": "markdown",
      "metadata": {
        "id": "516e73dc"
      },
      "source": [
        "# numerical data distributions"
      ],
      "id": "516e73dc"
    },
    {
      "cell_type": "code",
      "execution_count": null,
      "metadata": {
        "colab": {
          "base_uri": "https://localhost:8080/"
        },
        "id": "UkObOAv85rQs",
        "outputId": "48cbc776-4ad7-4e88-bad3-80b021b8956d"
      },
      "outputs": [
        {
          "data": {
            "text/plain": [
              "array([ 6,  4, 10,  2,  4, 10,  0,  6,  0,  0,  0,  4,  2,  2,  0,  4,  6,\n",
              "        4, 16,  4,  0,  0,  2,  0,  2, 14,  2,  4,  4, 16,  0,  0,  0,  0,\n",
              "        0,  0,  2,  7,  2,  8, 25,  8,  2,  0, 14,  8, 12,  4,  2,  2,  2,\n",
              "        2,  6,  0,  6,  8,  0,  4,  2,  2,  6,  6,  4,  2,  0,  2,  4,  4,\n",
              "        2, 12,  0,  0,  2,  2, 54,  6,  8,  0,  2, 12,  2,  4, 10,  4,  2,\n",
              "        6,  4,  4, 12, 18,  0,  4,  4,  0,  6,  2,  2,  2,  6,  0, 14,  0,\n",
              "        4, 26,  0, 10,  8,  2,  6,  4,  6,  0,  6, 10,  8,  2,  2,  0, 20,\n",
              "        6,  2,  6,  2, 18,  0,  0,  0,  2,  0,  8,  0,  0, 12, 16,  0,  0,\n",
              "        0,  0,  0,  0,  0,  8,  2,  2,  0,  0,  0,  2,  0,  0,  0,  6,  8,\n",
              "        0,  0,  2,  8,  6,  2,  4,  0,  6,  0,  2,  0, 16,  4,  0,  0,  0,\n",
              "        0,  2,  0,  0,  4,  4,  2,  4, 10,  4, 10,  2,  0, 56, 14, 12,  2,\n",
              "        0,  6,  4, 10,  0, 12,  8,  0,  0,  4,  8, 24,  0,  2,  6,  4, 18,\n",
              "        6, 28,  5, 10,  6,  6, 10, 13,  0, 15, 12,  2, 22, 13,  3,  4,  2,\n",
              "        0,  2,  0,  0, 16, 10,  2, 14, 10, 14,  4, 14,  2, 18, 10,  4, 20,\n",
              "        2,  0, 14,  2,  0,  0,  0,  6,  4, 16,  8,  0,  0,  6,  4,  0,  0,\n",
              "        2,  6, 12,  8,  0, 21,  2,  1,  4,  0, 13,  2,  8, 10,  0, 15,  4,\n",
              "        2,  2,  2,  6, 75, 22, 15,  8, 30, 19,  1,  4,  4,  2,  5,  6,  6,\n",
              "        9, 11,  0, 12,  6,  8,  4,  0, 10,  0,  5, 14,  0,  0,  0, 20,  8,\n",
              "        0, 38,  0, 18,  0, 20,  3, 22, 14, 40,  0,  9,  0,  2, 23, 12,  3,\n",
              "        1,  0,  3,  3,  8,  7,  4,  2,  7,  0,  0,  0, 16, 12,  0,  7,  4,\n",
              "        4,  0, 11,  0,  4,  7,  9,  0,  0, 10,  8,  2,  7,  4,  4,  0,  4,\n",
              "        2,  4,  0,  0,  2,  0,  0,  0,  4,  0,  0,  0, 10,  4,  3,  8, 14,\n",
              "        0,  2,  4,  4,  0, 17,  4,  5,  2,  0, 14,  2,  7,  0,  0,  0, 11,\n",
              "        3,  3,  0,  5])"
            ]
          },
          "execution_count": 7,
          "metadata": {},
          "output_type": "execute_result"
        }
      ],
      "source": [
        "absences_array = df[\"absences\"].values\n",
        "absences_array"
      ],
      "id": "UkObOAv85rQs"
    },
    {
      "cell_type": "code",
      "execution_count": null,
      "metadata": {
        "colab": {
          "base_uri": "https://localhost:8080/",
          "height": 458
        },
        "id": "ed3c5168",
        "outputId": "2cae317c-d2a9-43d3-c0ae-d414c17538e8"
      },
      "outputs": [
        {
          "data": {
            "image/png": "[encoded data removed]",
            "text/plain": [
              "<Figure size 640x480 with 1 Axes>"
            ]
          },
          "metadata": {},
          "output_type": "display_data"
        }
      ],
      "source": [
        "# Create a boxplot for the \"absences\" column\n",
        "ax = sns.boxplot(x=df[\"absences\"])\n",
        "plt.show()"
      ],
      "id": "ed3c5168"
    },
    {
      "cell_type": "markdown",
      "metadata": {
        "id": "8Ft3BKgTusIW"
      },
      "source": [
        "# Grades"
      ],
      "id": "8Ft3BKgTusIW"
    },
    {
      "cell_type": "code",
      "execution_count": null,
      "metadata": {
        "id": "J3qy_9DfuxZb"
      },
      "outputs": [],
      "source": [
        "import numpy as np\n",
        "from scipy.stats import spearmanr"
      ],
      "id": "J3qy_9DfuxZb"
    },
    {
      "cell_type": "code",
      "execution_count": null,
      "metadata": {
        "colab": {
          "base_uri": "https://localhost:8080/",
          "height": 423
        },
        "id": "QcXgYijAUjTd",
        "outputId": "218a07cd-6b1a-470f-cc7b-059f8e0e162d"
      },
      "outputs": [
        {
          "data": {
            "application/vnd.google.colaboratory.intrinsic+json": {
              "summary": "{\n  \"name\": \"df[[\\\"G1\\\", \\\"G2\\\", \\\"G1_rank\\\", \\\"G2_rank\\\"]]\",\n  \"rows\": 395,\n  \"fields\": [\n    {\n      \"column\": \"G1\",\n      \"properties\": {\n        \"dtype\": \"number\",\n        \"std\": 3,\n        \"min\": 3,\n        \"max\": 19,\n        \"num_unique_values\": 17,\n        \"samples\": [\n          5,\n          7,\n          16\n        ],\n        \"semantic_type\": \"\",\n        \"description\": \"\"\n      }\n    },\n    {\n      \"column\": \"G2\",\n      \"properties\": {\n        \"dtype\": \"number\",\n        \"std\": 3,\n        \"min\": 0,\n        \"max\": 19,\n        \"num_unique_values\": 17,\n        \"samples\": [\n          6,\n          5,\n          15\n        ],\n        \"semantic_type\": \"\",\n        \"description\": \"\"\n      }\n    },\n    {\n      \"column\": \"G1_rank\",\n      \"properties\": {\n        \"dtype\": \"number\",\n        \"std\": 113.71945397863098,\n        \"min\": 1.0,\n        \"max\": 394.0,\n        \"num_unique_values\": 17,\n        \"samples\": [\n          6.0,\n          52.0,\n          365.5\n        ],\n        \"semantic_type\": \"\",\n        \"description\": \"\"\n      }\n    },\n    {\n      \"column\": \"G2_rank\",\n      \"properties\": {\n        \"dtype\": \"number\",\n        \"std\": 113.7158829295928,\n        \"min\": 7.0,\n        \"max\": 394.0,\n        \"num_unique_values\": 17,\n        \"samples\": [\n          36.5,\n          22.0,\n          345.5\n        ],\n        \"semantic_type\": \"\",\n        \"description\": \"\"\n      }\n    }\n  ]\n}",
              "type": "dataframe"
            },
            "text/html": [
              "\n",
              "  <div id=\"df-79e4da17-b661-4f25-93a8-5f8648e239e3\" class=\"colab-df-container\">\n",
              "    <div>\n",
              "<style scoped>\n",
              "    .dataframe tbody tr th:only-of-type {\n",
              "        vertical-align: middle;\n",
              "    }\n",
              "\n",
              "    .dataframe tbody tr th {\n",
              "        vertical-align: top;\n",
              "    }\n",
              "\n",
              "    .dataframe thead th {\n",
              "        text-align: right;\n",
              "    }\n",
              "</style>\n",
              "<table border=\"1\" class=\"dataframe\">\n",
              "  <thead>\n",
              "    <tr style=\"text-align: right;\">\n",
              "      <th></th>\n",
              "      <th>G1</th>\n",
              "      <th>G2</th>\n",
              "      <th>G1_rank</th>\n",
              "      <th>G2_rank</th>\n",
              "    </tr>\n",
              "  </thead>\n",
              "  <tbody>\n",
              "    <tr>\n",
              "      <th>0</th>\n",
              "      <td>5</td>\n",
              "      <td>6</td>\n",
              "      <td>6.0</td>\n",
              "      <td>36.5</td>\n",
              "    </tr>\n",
              "    <tr>\n",
              "      <th>1</th>\n",
              "      <td>5</td>\n",
              "      <td>5</td>\n",
              "      <td>6.0</td>\n",
              "      <td>22.0</td>\n",
              "    </tr>\n",
              "    <tr>\n",
              "      <th>2</th>\n",
              "      <td>7</td>\n",
              "      <td>8</td>\n",
              "      <td>52.0</td>\n",
              "      <td>80.5</td>\n",
              "    </tr>\n",
              "    <tr>\n",
              "      <th>3</th>\n",
              "      <td>15</td>\n",
              "      <td>14</td>\n",
              "      <td>342.5</td>\n",
              "      <td>317.0</td>\n",
              "    </tr>\n",
              "    <tr>\n",
              "      <th>4</th>\n",
              "      <td>6</td>\n",
              "      <td>10</td>\n",
              "      <td>21.5</td>\n",
              "      <td>169.5</td>\n",
              "    </tr>\n",
              "    <tr>\n",
              "      <th>...</th>\n",
              "      <td>...</td>\n",
              "      <td>...</td>\n",
              "      <td>...</td>\n",
              "      <td>...</td>\n",
              "    </tr>\n",
              "    <tr>\n",
              "      <th>390</th>\n",
              "      <td>9</td>\n",
              "      <td>9</td>\n",
              "      <td>127.0</td>\n",
              "      <td>121.5</td>\n",
              "    </tr>\n",
              "    <tr>\n",
              "      <th>391</th>\n",
              "      <td>14</td>\n",
              "      <td>16</td>\n",
              "      <td>315.5</td>\n",
              "      <td>369.0</td>\n",
              "    </tr>\n",
              "    <tr>\n",
              "      <th>392</th>\n",
              "      <td>10</td>\n",
              "      <td>8</td>\n",
              "      <td>168.0</td>\n",
              "      <td>80.5</td>\n",
              "    </tr>\n",
              "    <tr>\n",
              "      <th>393</th>\n",
              "      <td>11</td>\n",
              "      <td>12</td>\n",
              "      <td>213.0</td>\n",
              "      <td>248.0</td>\n",
              "    </tr>\n",
              "    <tr>\n",
              "      <th>394</th>\n",
              "      <td>8</td>\n",
              "      <td>9</td>\n",
              "      <td>91.0</td>\n",
              "      <td>121.5</td>\n",
              "    </tr>\n",
              "  </tbody>\n",
              "</table>\n",
              "<p>395 rows × 4 columns</p>\n",
              "</div>\n",
              "    <div class=\"colab-df-buttons\">\n",
              "\n",
              "  <div class=\"colab-df-container\">\n",
              "    <button class=\"colab-df-convert\" onclick=\"convertToInteractive('df-79e4da17-b661-4f25-93a8-5f8648e239e3')\"\n",
              "            title=\"Convert this dataframe to an interactive table.\"\n",
              "            style=\"display:none;\">\n",
              "\n",
              "  <svg xmlns=\"http://www.w3.org/2000/svg\" height=\"24px\" viewBox=\"0 -960 960 960\">\n",
              "    <path d=\"M120-120v-720h720v720H120Zm60-500h600v-160H180v160Zm220 220h160v-160H400v160Zm0 220h160v-160H400v160ZM180-400h160v-160H180v160Zm440 0h160v-160H620v160ZM180-180h160v-160H180v160Zm440 0h160v-160H620v160Z\"/>\n",
              "  </svg>\n",
              "    </button>\n",
              "\n",
              "  <style>\n",
              "    .colab-df-container {\n",
              "      display:flex;\n",
              "      gap: 12px;\n",
              "    }\n",
              "\n",
              "    .colab-df-convert {\n",
              "      background-color: #E8F0FE;\n",
              "      border: none;\n",
              "      border-radius: 50%;\n",
              "      cursor: pointer;\n",
              "      display: none;\n",
              "      fill: #1967D2;\n",
              "      height: 32px;\n",
              "      padding: 0 0 0 0;\n",
              "      width: 32px;\n",
              "    }\n",
              "\n",
              "    .colab-df-convert:hover {\n",
              "      background-color: #E2EBFA;\n",
              "      box-shadow: 0px 1px 2px rgba(60, 64, 67, 0.3), 0px 1px 3px 1px rgba(60, 64, 67, 0.15);\n",
              "      fill: #174EA6;\n",
              "    }\n",
              "\n",
              "    .colab-df-buttons div {\n",
              "      margin-bottom: 4px;\n",
              "    }\n",
              "\n",
              "    [theme=dark] .colab-df-convert {\n",
              "      background-color: #3B4455;\n",
              "      fill: #D2E3FC;\n",
              "    }\n",
              "\n",
              "    [theme=dark] .colab-df-convert:hover {\n",
              "      background-color: #434B5C;\n",
              "      box-shadow: 0px 1px 3px 1px rgba(0, 0, 0, 0.15);\n",
              "      filter: drop-shadow(0px 1px 2px rgba(0, 0, 0, 0.3));\n",
              "      fill: #FFFFFF;\n",
              "    }\n",
              "  </style>\n",
              "\n",
              "    <script>\n",
              "      const buttonEl =\n",
              "        document.querySelector('#df-79e4da17-b661-4f25-93a8-5f8648e239e3 button.colab-df-convert');\n",
              "      buttonEl.style.display =\n",
              "        google.colab.kernel.accessAllowed ? 'block' : 'none';\n",
              "\n",
              "      async function convertToInteractive(key) {\n",
              "        const element = document.querySelector('#df-79e4da17-b661-4f25-93a8-5f8648e239e3');\n",
              "        const dataTable =\n",
              "          await google.colab.kernel.invokeFunction('convertToInteractive',\n",
              "                                                    [key], {});\n",
              "        if (!dataTable) return;\n",
              "\n",
              "        const docLinkHtml = 'Like what you see? Visit the ' +\n",
              "          '<a target=\"_blank\" href=https://colab.research.google.com/notebooks/data_table.ipynb>data table notebook</a>'\n",
              "          + ' to learn more about interactive tables.';\n",
              "        element.innerHTML = '';\n",
              "        dataTable['output_type'] = 'display_data';\n",
              "        await google.colab.output.renderOutput(dataTable, element);\n",
              "        const docLink = document.createElement('div');\n",
              "        docLink.innerHTML = docLinkHtml;\n",
              "        element.appendChild(docLink);\n",
              "      }\n",
              "    </script>\n",
              "  </div>\n",
              "\n",
              "\n",
              "<div id=\"df-4083aac0-7633-4db9-9353-7f0ff40ec5bd\">\n",
              "  <button class=\"colab-df-quickchart\" onclick=\"quickchart('df-4083aac0-7633-4db9-9353-7f0ff40ec5bd')\"\n",
              "            title=\"Suggest charts\"\n",
              "            style=\"display:none;\">\n",
              "\n",
              "<svg xmlns=\"http://www.w3.org/2000/svg\" height=\"24px\"viewBox=\"0 0 24 24\"\n",
              "     width=\"24px\">\n",
              "    <g>\n",
              "        <path d=\"M19 3H5c-1.1 0-2 .9-2 2v14c0 1.1.9 2 2 2h14c1.1 0 2-.9 2-2V5c0-1.1-.9-2-2-2zM9 17H7v-7h2v7zm4 0h-2V7h2v10zm4 0h-2v-4h2v4z\"/>\n",
              "    </g>\n",
              "</svg>\n",
              "  </button>\n",
              "\n",
              "<style>\n",
              "  .colab-df-quickchart {\n",
              "      --bg-color: #E8F0FE;\n",
              "      --fill-color: #1967D2;\n",
              "      --hover-bg-color: #E2EBFA;\n",
              "      --hover-fill-color: #174EA6;\n",
              "      --disabled-fill-color: #AAA;\n",
              "      --disabled-bg-color: #DDD;\n",
              "  }\n",
              "\n",
              "  [theme=dark] .colab-df-quickchart {\n",
              "      --bg-color: #3B4455;\n",
              "      --fill-color: #D2E3FC;\n",
              "      --hover-bg-color: #434B5C;\n",
              "      --hover-fill-color: #FFFFFF;\n",
              "      --disabled-bg-color: #3B4455;\n",
              "      --disabled-fill-color: #666;\n",
              "  }\n",
              "\n",
              "  .colab-df-quickchart {\n",
              "    background-color: var(--bg-color);\n",
              "    border: none;\n",
              "    border-radius: 50%;\n",
              "    cursor: pointer;\n",
              "    display: none;\n",
              "    fill: var(--fill-color);\n",
              "    height: 32px;\n",
              "    padding: 0;\n",
              "    width: 32px;\n",
              "  }\n",
              "\n",
              "  .colab-df-quickchart:hover {\n",
              "    background-color: var(--hover-bg-color);\n",
              "    box-shadow: 0 1px 2px rgba(60, 64, 67, 0.3), 0 1px 3px 1px rgba(60, 64, 67, 0.15);\n",
              "    fill: var(--button-hover-fill-color);\n",
              "  }\n",
              "\n",
              "  .colab-df-quickchart-complete:disabled,\n",
              "  .colab-df-quickchart-complete:disabled:hover {\n",
              "    background-color: var(--disabled-bg-color);\n",
              "    fill: var(--disabled-fill-color);\n",
              "    box-shadow: none;\n",
              "  }\n",
              "\n",
              "  .colab-df-spinner {\n",
              "    border: 2px solid var(--fill-color);\n",
              "    border-color: transparent;\n",
              "    border-bottom-color: var(--fill-color);\n",
              "    animation:\n",
              "      spin 1s steps(1) infinite;\n",
              "  }\n",
              "\n",
              "  @keyframes spin {\n",
              "    0% {\n",
              "      border-color: transparent;\n",
              "      border-bottom-color: var(--fill-color);\n",
              "      border-left-color: var(--fill-color);\n",
              "    }\n",
              "    20% {\n",
              "      border-color: transparent;\n",
              "      border-left-color: var(--fill-color);\n",
              "      border-top-color: var(--fill-color);\n",
              "    }\n",
              "    30% {\n",
              "      border-color: transparent;\n",
              "      border-left-color: var(--fill-color);\n",
              "      border-top-color: var(--fill-color);\n",
              "      border-right-color: var(--fill-color);\n",
              "    }\n",
              "    40% {\n",
              "      border-color: transparent;\n",
              "      border-right-color: var(--fill-color);\n",
              "      border-top-color: var(--fill-color);\n",
              "    }\n",
              "    60% {\n",
              "      border-color: transparent;\n",
              "      border-right-color: var(--fill-color);\n",
              "    }\n",
              "    80% {\n",
              "      border-color: transparent;\n",
              "      border-right-color: var(--fill-color);\n",
              "      border-bottom-color: var(--fill-color);\n",
              "    }\n",
              "    90% {\n",
              "      border-color: transparent;\n",
              "      border-bottom-color: var(--fill-color);\n",
              "    }\n",
              "  }\n",
              "</style>\n",
              "\n",
              "  <script>\n",
              "    async function quickchart(key) {\n",
              "      const quickchartButtonEl =\n",
              "        document.querySelector('#' + key + ' button');\n",
              "      quickchartButtonEl.disabled = true;  // To prevent multiple clicks.\n",
              "      quickchartButtonEl.classList.add('colab-df-spinner');\n",
              "      try {\n",
              "        const charts = await google.colab.kernel.invokeFunction(\n",
              "            'suggestCharts', [key], {});\n",
              "      } catch (error) {\n",
              "        console.error('Error during call to suggestCharts:', error);\n",
              "      }\n",
              "      quickchartButtonEl.classList.remove('colab-df-spinner');\n",
              "      quickchartButtonEl.classList.add('colab-df-quickchart-complete');\n",
              "    }\n",
              "    (() => {\n",
              "      let quickchartButtonEl =\n",
              "        document.querySelector('#df-4083aac0-7633-4db9-9353-7f0ff40ec5bd button');\n",
              "      quickchartButtonEl.style.display =\n",
              "        google.colab.kernel.accessAllowed ? 'block' : 'none';\n",
              "    })();\n",
              "  </script>\n",
              "</div>\n",
              "\n",
              "    </div>\n",
              "  </div>\n"
            ],
            "text/plain": [
              "     G1  G2  G1_rank  G2_rank\n",
              "0     5   6      6.0     36.5\n",
              "1     5   5      6.0     22.0\n",
              "2     7   8     52.0     80.5\n",
              "3    15  14    342.5    317.0\n",
              "4     6  10     21.5    169.5\n",
              "..   ..  ..      ...      ...\n",
              "390   9   9    127.0    121.5\n",
              "391  14  16    315.5    369.0\n",
              "392  10   8    168.0     80.5\n",
              "393  11  12    213.0    248.0\n",
              "394   8   9     91.0    121.5\n",
              "\n",
              "[395 rows x 4 columns]"
            ]
          },
          "execution_count": 34,
          "metadata": {},
          "output_type": "execute_result"
        }
      ],
      "source": [
        "df[\"G1_rank\"] = df[\"G1\"].rank()\n",
        "df[\"G2_rank\"] = df[\"G2\"].rank()\n",
        "df[[\"G1\", \"G2\", \"G1_rank\", \"G2_rank\"]]"
      ],
      "id": "QcXgYijAUjTd"
    },
    {
      "cell_type": "code",
      "execution_count": null,
      "metadata": {
        "colab": {
          "base_uri": "https://localhost:8080/",
          "height": 423
        },
        "id": "iTGNletTVn2Y",
        "outputId": "5b0c08f4-870b-4fe8-8d13-e535e5de31ff"
      },
      "outputs": [
        {
          "data": {
            "application/vnd.google.colaboratory.intrinsic+json": {
              "summary": "{\n  \"name\": \"df[[\\\"G1\\\", \\\"G2\\\", \\\"G1_rank\\\", \\\"G2_rank\\\",\\\"d\\\",\\\"d2\\\"]]\",\n  \"rows\": 395,\n  \"fields\": [\n    {\n      \"column\": \"G1\",\n      \"properties\": {\n        \"dtype\": \"number\",\n        \"std\": 3,\n        \"min\": 3,\n        \"max\": 19,\n        \"num_unique_values\": 17,\n        \"samples\": [\n          5,\n          7,\n          16\n        ],\n        \"semantic_type\": \"\",\n        \"description\": \"\"\n      }\n    },\n    {\n      \"column\": \"G2\",\n      \"properties\": {\n        \"dtype\": \"number\",\n        \"std\": 3,\n        \"min\": 0,\n        \"max\": 19,\n        \"num_unique_values\": 17,\n        \"samples\": [\n          6,\n          5,\n          15\n        ],\n        \"semantic_type\": \"\",\n        \"description\": \"\"\n      }\n    },\n    {\n      \"column\": \"G1_rank\",\n      \"properties\": {\n        \"dtype\": \"number\",\n        \"std\": 113.71945397863098,\n        \"min\": 1.0,\n        \"max\": 394.0,\n        \"num_unique_values\": 17,\n        \"samples\": [\n          6.0,\n          52.0,\n          365.5\n        ],\n        \"semantic_type\": \"\",\n        \"description\": \"\"\n      }\n    },\n    {\n      \"column\": \"G2_rank\",\n      \"properties\": {\n        \"dtype\": \"number\",\n        \"std\": 113.7158829295928,\n        \"min\": 7.0,\n        \"max\": 394.0,\n        \"num_unique_values\": 17,\n        \"samples\": [\n          36.5,\n          22.0,\n          345.5\n        ],\n        \"semantic_type\": \"\",\n        \"description\": \"\"\n      }\n    },\n    {\n      \"column\": \"d\",\n      \"properties\": {\n        \"dtype\": \"number\",\n        \"std\": 52.163667656236115,\n        \"min\": -157.0,\n        \"max\": 243.0,\n        \"num_unique_values\": 85,\n        \"samples\": [\n          2.5,\n          -30.5,\n          -74.5\n        ],\n        \"semantic_type\": \"\",\n        \"description\": \"\"\n      }\n    },\n    {\n      \"column\": \"d2\",\n      \"properties\": {\n        \"dtype\": \"number\",\n        \"std\": 5306.390564005944,\n        \"min\": 0.0,\n        \"max\": 59049.0,\n        \"num_unique_values\": 75,\n        \"samples\": [\n          21904.0,\n          8372.25,\n          7656.25\n        ],\n        \"semantic_type\": \"\",\n        \"description\": \"\"\n      }\n    }\n  ]\n}",
              "type": "dataframe"
            },
            "text/html": [
              "\n",
              "  <div id=\"df-0631622a-542f-480c-be72-8aa71cac36d7\" class=\"colab-df-container\">\n",
              "    <div>\n",
              "<style scoped>\n",
              "    .dataframe tbody tr th:only-of-type {\n",
              "        vertical-align: middle;\n",
              "    }\n",
              "\n",
              "    .dataframe tbody tr th {\n",
              "        vertical-align: top;\n",
              "    }\n",
              "\n",
              "    .dataframe thead th {\n",
              "        text-align: right;\n",
              "    }\n",
              "</style>\n",
              "<table border=\"1\" class=\"dataframe\">\n",
              "  <thead>\n",
              "    <tr style=\"text-align: right;\">\n",
              "      <th></th>\n",
              "      <th>G1</th>\n",
              "      <th>G2</th>\n",
              "      <th>G1_rank</th>\n",
              "      <th>G2_rank</th>\n",
              "      <th>d</th>\n",
              "      <th>d2</th>\n",
              "    </tr>\n",
              "  </thead>\n",
              "  <tbody>\n",
              "    <tr>\n",
              "      <th>0</th>\n",
              "      <td>5</td>\n",
              "      <td>6</td>\n",
              "      <td>6.0</td>\n",
              "      <td>36.5</td>\n",
              "      <td>-30.5</td>\n",
              "      <td>930.25</td>\n",
              "    </tr>\n",
              "    <tr>\n",
              "      <th>1</th>\n",
              "      <td>5</td>\n",
              "      <td>5</td>\n",
              "      <td>6.0</td>\n",
              "      <td>22.0</td>\n",
              "      <td>-16.0</td>\n",
              "      <td>256.00</td>\n",
              "    </tr>\n",
              "    <tr>\n",
              "      <th>2</th>\n",
              "      <td>7</td>\n",
              "      <td>8</td>\n",
              "      <td>52.0</td>\n",
              "      <td>80.5</td>\n",
              "      <td>-28.5</td>\n",
              "      <td>812.25</td>\n",
              "    </tr>\n",
              "    <tr>\n",
              "      <th>3</th>\n",
              "      <td>15</td>\n",
              "      <td>14</td>\n",
              "      <td>342.5</td>\n",
              "      <td>317.0</td>\n",
              "      <td>25.5</td>\n",
              "      <td>650.25</td>\n",
              "    </tr>\n",
              "    <tr>\n",
              "      <th>4</th>\n",
              "      <td>6</td>\n",
              "      <td>10</td>\n",
              "      <td>21.5</td>\n",
              "      <td>169.5</td>\n",
              "      <td>-148.0</td>\n",
              "      <td>21904.00</td>\n",
              "    </tr>\n",
              "    <tr>\n",
              "      <th>...</th>\n",
              "      <td>...</td>\n",
              "      <td>...</td>\n",
              "      <td>...</td>\n",
              "      <td>...</td>\n",
              "      <td>...</td>\n",
              "      <td>...</td>\n",
              "    </tr>\n",
              "    <tr>\n",
              "      <th>390</th>\n",
              "      <td>9</td>\n",
              "      <td>9</td>\n",
              "      <td>127.0</td>\n",
              "      <td>121.5</td>\n",
              "      <td>5.5</td>\n",
              "      <td>30.25</td>\n",
              "    </tr>\n",
              "    <tr>\n",
              "      <th>391</th>\n",
              "      <td>14</td>\n",
              "      <td>16</td>\n",
              "      <td>315.5</td>\n",
              "      <td>369.0</td>\n",
              "      <td>-53.5</td>\n",
              "      <td>2862.25</td>\n",
              "    </tr>\n",
              "    <tr>\n",
              "      <th>392</th>\n",
              "      <td>10</td>\n",
              "      <td>8</td>\n",
              "      <td>168.0</td>\n",
              "      <td>80.5</td>\n",
              "      <td>87.5</td>\n",
              "      <td>7656.25</td>\n",
              "    </tr>\n",
              "    <tr>\n",
              "      <th>393</th>\n",
              "      <td>11</td>\n",
              "      <td>12</td>\n",
              "      <td>213.0</td>\n",
              "      <td>248.0</td>\n",
              "      <td>-35.0</td>\n",
              "      <td>1225.00</td>\n",
              "    </tr>\n",
              "    <tr>\n",
              "      <th>394</th>\n",
              "      <td>8</td>\n",
              "      <td>9</td>\n",
              "      <td>91.0</td>\n",
              "      <td>121.5</td>\n",
              "      <td>-30.5</td>\n",
              "      <td>930.25</td>\n",
              "    </tr>\n",
              "  </tbody>\n",
              "</table>\n",
              "<p>395 rows × 6 columns</p>\n",
              "</div>\n",
              "    <div class=\"colab-df-buttons\">\n",
              "\n",
              "  <div class=\"colab-df-container\">\n",
              "    <button class=\"colab-df-convert\" onclick=\"convertToInteractive('df-0631622a-542f-480c-be72-8aa71cac36d7')\"\n",
              "            title=\"Convert this dataframe to an interactive table.\"\n",
              "            style=\"display:none;\">\n",
              "\n",
              "  <svg xmlns=\"http://www.w3.org/2000/svg\" height=\"24px\" viewBox=\"0 -960 960 960\">\n",
              "    <path d=\"M120-120v-720h720v720H120Zm60-500h600v-160H180v160Zm220 220h160v-160H400v160Zm0 220h160v-160H400v160ZM180-400h160v-160H180v160Zm440 0h160v-160H620v160ZM180-180h160v-160H180v160Zm440 0h160v-160H620v160Z\"/>\n",
              "  </svg>\n",
              "    </button>\n",
              "\n",
              "  <style>\n",
              "    .colab-df-container {\n",
              "      display:flex;\n",
              "      gap: 12px;\n",
              "    }\n",
              "\n",
              "    .colab-df-convert {\n",
              "      background-color: #E8F0FE;\n",
              "      border: none;\n",
              "      border-radius: 50%;\n",
              "      cursor: pointer;\n",
              "      display: none;\n",
              "      fill: #1967D2;\n",
              "      height: 32px;\n",
              "      padding: 0 0 0 0;\n",
              "      width: 32px;\n",
              "    }\n",
              "\n",
              "    .colab-df-convert:hover {\n",
              "      background-color: #E2EBFA;\n",
              "      box-shadow: 0px 1px 2px rgba(60, 64, 67, 0.3), 0px 1px 3px 1px rgba(60, 64, 67, 0.15);\n",
              "      fill: #174EA6;\n",
              "    }\n",
              "\n",
              "    .colab-df-buttons div {\n",
              "      margin-bottom: 4px;\n",
              "    }\n",
              "\n",
              "    [theme=dark] .colab-df-convert {\n",
              "      background-color: #3B4455;\n",
              "      fill: #D2E3FC;\n",
              "    }\n",
              "\n",
              "    [theme=dark] .colab-df-convert:hover {\n",
              "      background-color: #434B5C;\n",
              "      box-shadow: 0px 1px 3px 1px rgba(0, 0, 0, 0.15);\n",
              "      filter: drop-shadow(0px 1px 2px rgba(0, 0, 0, 0.3));\n",
              "      fill: #FFFFFF;\n",
              "    }\n",
              "  </style>\n",
              "\n",
              "    <script>\n",
              "      const buttonEl =\n",
              "        document.querySelector('#df-0631622a-542f-480c-be72-8aa71cac36d7 button.colab-df-convert');\n",
              "      buttonEl.style.display =\n",
              "        google.colab.kernel.accessAllowed ? 'block' : 'none';\n",
              "\n",
              "      async function convertToInteractive(key) {\n",
              "        const element = document.querySelector('#df-0631622a-542f-480c-be72-8aa71cac36d7');\n",
              "        const dataTable =\n",
              "          await google.colab.kernel.invokeFunction('convertToInteractive',\n",
              "                                                    [key], {});\n",
              "        if (!dataTable) return;\n",
              "\n",
              "        const docLinkHtml = 'Like what you see? Visit the ' +\n",
              "          '<a target=\"_blank\" href=https://colab.research.google.com/notebooks/data_table.ipynb>data table notebook</a>'\n",
              "          + ' to learn more about interactive tables.';\n",
              "        element.innerHTML = '';\n",
              "        dataTable['output_type'] = 'display_data';\n",
              "        await google.colab.output.renderOutput(dataTable, element);\n",
              "        const docLink = document.createElement('div');\n",
              "        docLink.innerHTML = docLinkHtml;\n",
              "        element.appendChild(docLink);\n",
              "      }\n",
              "    </script>\n",
              "  </div>\n",
              "\n",
              "\n",
              "<div id=\"df-ff3d3894-ab85-49f0-85a8-522f13b23eed\">\n",
              "  <button class=\"colab-df-quickchart\" onclick=\"quickchart('df-ff3d3894-ab85-49f0-85a8-522f13b23eed')\"\n",
              "            title=\"Suggest charts\"\n",
              "            style=\"display:none;\">\n",
              "\n",
              "<svg xmlns=\"http://www.w3.org/2000/svg\" height=\"24px\"viewBox=\"0 0 24 24\"\n",
              "     width=\"24px\">\n",
              "    <g>\n",
              "        <path d=\"M19 3H5c-1.1 0-2 .9-2 2v14c0 1.1.9 2 2 2h14c1.1 0 2-.9 2-2V5c0-1.1-.9-2-2-2zM9 17H7v-7h2v7zm4 0h-2V7h2v10zm4 0h-2v-4h2v4z\"/>\n",
              "    </g>\n",
              "</svg>\n",
              "  </button>\n",
              "\n",
              "<style>\n",
              "  .colab-df-quickchart {\n",
              "      --bg-color: #E8F0FE;\n",
              "      --fill-color: #1967D2;\n",
              "      --hover-bg-color: #E2EBFA;\n",
              "      --hover-fill-color: #174EA6;\n",
              "      --disabled-fill-color: #AAA;\n",
              "      --disabled-bg-color: #DDD;\n",
              "  }\n",
              "\n",
              "  [theme=dark] .colab-df-quickchart {\n",
              "      --bg-color: #3B4455;\n",
              "      --fill-color: #D2E3FC;\n",
              "      --hover-bg-color: #434B5C;\n",
              "      --hover-fill-color: #FFFFFF;\n",
              "      --disabled-bg-color: #3B4455;\n",
              "      --disabled-fill-color: #666;\n",
              "  }\n",
              "\n",
              "  .colab-df-quickchart {\n",
              "    background-color: var(--bg-color);\n",
              "    border: none;\n",
              "    border-radius: 50%;\n",
              "    cursor: pointer;\n",
              "    display: none;\n",
              "    fill: var(--fill-color);\n",
              "    height: 32px;\n",
              "    padding: 0;\n",
              "    width: 32px;\n",
              "  }\n",
              "\n",
              "  .colab-df-quickchart:hover {\n",
              "    background-color: var(--hover-bg-color);\n",
              "    box-shadow: 0 1px 2px rgba(60, 64, 67, 0.3), 0 1px 3px 1px rgba(60, 64, 67, 0.15);\n",
              "    fill: var(--button-hover-fill-color);\n",
              "  }\n",
              "\n",
              "  .colab-df-quickchart-complete:disabled,\n",
              "  .colab-df-quickchart-complete:disabled:hover {\n",
              "    background-color: var(--disabled-bg-color);\n",
              "    fill: var(--disabled-fill-color);\n",
              "    box-shadow: none;\n",
              "  }\n",
              "\n",
              "  .colab-df-spinner {\n",
              "    border: 2px solid var(--fill-color);\n",
              "    border-color: transparent;\n",
              "    border-bottom-color: var(--fill-color);\n",
              "    animation:\n",
              "      spin 1s steps(1) infinite;\n",
              "  }\n",
              "\n",
              "  @keyframes spin {\n",
              "    0% {\n",
              "      border-color: transparent;\n",
              "      border-bottom-color: var(--fill-color);\n",
              "      border-left-color: var(--fill-color);\n",
              "    }\n",
              "    20% {\n",
              "      border-color: transparent;\n",
              "      border-left-color: var(--fill-color);\n",
              "      border-top-color: var(--fill-color);\n",
              "    }\n",
              "    30% {\n",
              "      border-color: transparent;\n",
              "      border-left-color: var(--fill-color);\n",
              "      border-top-color: var(--fill-color);\n",
              "      border-right-color: var(--fill-color);\n",
              "    }\n",
              "    40% {\n",
              "      border-color: transparent;\n",
              "      border-right-color: var(--fill-color);\n",
              "      border-top-color: var(--fill-color);\n",
              "    }\n",
              "    60% {\n",
              "      border-color: transparent;\n",
              "      border-right-color: var(--fill-color);\n",
              "    }\n",
              "    80% {\n",
              "      border-color: transparent;\n",
              "      border-right-color: var(--fill-color);\n",
              "      border-bottom-color: var(--fill-color);\n",
              "    }\n",
              "    90% {\n",
              "      border-color: transparent;\n",
              "      border-bottom-color: var(--fill-color);\n",
              "    }\n",
              "  }\n",
              "</style>\n",
              "\n",
              "  <script>\n",
              "    async function quickchart(key) {\n",
              "      const quickchartButtonEl =\n",
              "        document.querySelector('#' + key + ' button');\n",
              "      quickchartButtonEl.disabled = true;  // To prevent multiple clicks.\n",
              "      quickchartButtonEl.classList.add('colab-df-spinner');\n",
              "      try {\n",
              "        const charts = await google.colab.kernel.invokeFunction(\n",
              "            'suggestCharts', [key], {});\n",
              "      } catch (error) {\n",
              "        console.error('Error during call to suggestCharts:', error);\n",
              "      }\n",
              "      quickchartButtonEl.classList.remove('colab-df-spinner');\n",
              "      quickchartButtonEl.classList.add('colab-df-quickchart-complete');\n",
              "    }\n",
              "    (() => {\n",
              "      let quickchartButtonEl =\n",
              "        document.querySelector('#df-ff3d3894-ab85-49f0-85a8-522f13b23eed button');\n",
              "      quickchartButtonEl.style.display =\n",
              "        google.colab.kernel.accessAllowed ? 'block' : 'none';\n",
              "    })();\n",
              "  </script>\n",
              "</div>\n",
              "\n",
              "    </div>\n",
              "  </div>\n"
            ],
            "text/plain": [
              "     G1  G2  G1_rank  G2_rank      d        d2\n",
              "0     5   6      6.0     36.5  -30.5    930.25\n",
              "1     5   5      6.0     22.0  -16.0    256.00\n",
              "2     7   8     52.0     80.5  -28.5    812.25\n",
              "3    15  14    342.5    317.0   25.5    650.25\n",
              "4     6  10     21.5    169.5 -148.0  21904.00\n",
              "..   ..  ..      ...      ...    ...       ...\n",
              "390   9   9    127.0    121.5    5.5     30.25\n",
              "391  14  16    315.5    369.0  -53.5   2862.25\n",
              "392  10   8    168.0     80.5   87.5   7656.25\n",
              "393  11  12    213.0    248.0  -35.0   1225.00\n",
              "394   8   9     91.0    121.5  -30.5    930.25\n",
              "\n",
              "[395 rows x 6 columns]"
            ]
          },
          "execution_count": 35,
          "metadata": {},
          "output_type": "execute_result"
        }
      ],
      "source": [
        "df[\"d\"] = df[\"G1_rank\"] - df[\"G2_rank\"]\n",
        "df[\"d2\"] = df[\"d\"].apply(lambda x: x*x)\n",
        "df[[\"G1\", \"G2\", \"G1_rank\", \"G2_rank\",\"d\",\"d2\"]]"
      ],
      "id": "iTGNletTVn2Y"
    },
    {
      "cell_type": "code",
      "execution_count": null,
      "metadata": {
        "colab": {
          "base_uri": "https://localhost:8080/"
        },
        "id": "2fzhkGwIV9nA",
        "outputId": "4ee74039-1442-41c5-b0b5-42e55d1d83c4"
      },
      "outputs": [
        {
          "name": "stdout",
          "output_type": "stream",
          "text": [
            "Spearman's Rank Correlation Coefficient is: 0.8956253078883677\n"
          ]
        }
      ],
      "source": [
        "def spearman_rank(df):\n",
        "    sum_d2 = sum(df[\"d2\"])\n",
        "    n = len(df[\"d2\"])\n",
        "    r = 1 - sum_d2*6/((n*n-1)*n)\n",
        "    return r\n",
        "\n",
        "r = spearman_rank(df)\n",
        "print(f\"Spearman's Rank Correlation Coefficient is: {r}\")"
      ],
      "id": "2fzhkGwIV9nA"
    },
    {
      "cell_type": "code",
      "execution_count": null,
      "metadata": {
        "colab": {
          "base_uri": "https://localhost:8080/",
          "height": 475
        },
        "id": "da7966d3",
        "outputId": "ab9925a0-8a3e-4aef-d519-d86be1ce2475"
      },
      "outputs": [
        {
          "data": {
            "text/plain": [
              "<Axes: xlabel='G1', ylabel='G2'>"
            ]
          },
          "execution_count": 10,
          "metadata": {},
          "output_type": "execute_result"
        },
        {
          "data": {
            "image/png": "[encoded data removed]",
            "text/plain": [
              "<Figure size 640x480 with 1 Axes>"
            ]
          },
          "metadata": {},
          "output_type": "display_data"
        }
      ],
      "source": [
        "sns.regplot(x=\"G1\", y=\"G2\", data=df)"
      ],
      "id": "da7966d3"
    },
    {
      "cell_type": "code",
      "execution_count": null,
      "metadata": {
        "colab": {
          "base_uri": "https://localhost:8080/",
          "height": 475
        },
        "id": "a5ac6831",
        "outputId": "830093be-303d-4111-f2f5-209b037f4fd2"
      },
      "outputs": [
        {
          "data": {
            "text/plain": [
              "<Axes: xlabel='G2', ylabel='G3'>"
            ]
          },
          "execution_count": 11,
          "metadata": {},
          "output_type": "execute_result"
        },
        {
          "data": {
            "image/png": "[encoded data removed]",
            "text/plain": [
              "<Figure size 640x480 with 1 Axes>"
            ]
          },
          "metadata": {},
          "output_type": "display_data"
        }
      ],
      "source": [
        "sns.regplot(x=\"G2\", y=\"G3\", data=df)"
      ],
      "id": "a5ac6831"
    },
    {
      "cell_type": "code",
      "execution_count": null,
      "metadata": {
        "colab": {
          "background_save": true,
          "base_uri": "https://localhost:8080/",
          "height": 475
        },
        "id": "7fd7d2a3",
        "outputId": "84286171-f5cb-46a1-fd1a-cd9e75f998f2"
      },
      "outputs": [
        {
          "data": {
            "text/plain": [
              "<Axes: xlabel='G1', ylabel='G3'>"
            ]
          },
          "execution_count": 87,
          "metadata": {},
          "output_type": "execute_result"
        },
        {
          "data": {
            "image/png": "[encoded data removed]",
            "text/plain": [
              "<Figure size 640x480 with 1 Axes>"
            ]
          },
          "metadata": {},
          "output_type": "display_data"
        }
      ],
      "source": [
        "sns.regplot(x=\"G1\", y=\"G3\", data=df)"
      ],
      "id": "7fd7d2a3"
    },
    {
      "cell_type": "markdown",
      "metadata": {
        "id": "5b103b95"
      },
      "source": [
        "# Absences vs. Grade"
      ],
      "id": "5b103b95"
    },
    {
      "cell_type": "code",
      "execution_count": null,
      "metadata": {
        "colab": {
          "background_save": true,
          "base_uri": "https://localhost:8080/"
        },
        "id": "XDxT0gZDvaek",
        "outputId": "ab76b35a-6273-41d7-f6c7-8e3303efc161"
      },
      "outputs": [
        {
          "name": "stdout",
          "output_type": "stream",
          "text": [
            "Spearman Correlation: 0.017730669122425113\n"
          ]
        }
      ],
      "source": [
        "x = df[\"absences\"]\n",
        "y = df[\"G3\"]\n",
        "\n",
        "# Spearman correlation\n",
        "spearman_corr, _ = spearmanr(x, y)\n",
        "print(\"Spearman Correlation:\", spearman_corr)"
      ],
      "id": "XDxT0gZDvaek"
    },
    {
      "cell_type": "code",
      "execution_count": null,
      "metadata": {
        "colab": {
          "background_save": true,
          "base_uri": "https://localhost:8080/",
          "height": 497
        },
        "id": "1e677bc9",
        "outputId": "cae57c24-648f-4b29-816e-6b72b17ea063"
      },
      "outputs": [
        {
          "data": {
            "text/plain": [
              "[Text(0.5, 1.0, 'Absences vs G3')]"
            ]
          },
          "execution_count": 89,
          "metadata": {},
          "output_type": "execute_result"
        },
        {
          "data": {
            "image/png": "[encoded data removed]",
            "text/plain": [
              "<Figure size 640x480 with 1 Axes>"
            ]
          },
          "metadata": {},
          "output_type": "display_data"
        }
      ],
      "source": [
        "sns.regplot(x='absences', y='G3', data=df).set(title='Absences vs G3')"
      ],
      "id": "1e677bc9"
    },
    {
      "cell_type": "markdown",
      "metadata": {
        "id": "8BVKpv0tlFTW"
      },
      "source": [
        "# study time vs. Grade"
      ],
      "id": "8BVKpv0tlFTW"
    },
    {
      "cell_type": "code",
      "execution_count": null,
      "metadata": {
        "colab": {
          "background_save": true,
          "base_uri": "https://localhost:8080/"
        },
        "id": "p5ACyZE8vqrC",
        "outputId": "9c6ca463-cb76-4e70-8cac-39954dc2daa3"
      },
      "outputs": [
        {
          "name": "stdout",
          "output_type": "stream",
          "text": [
            "Spearman Correlation: 0.10516968678133246\n"
          ]
        }
      ],
      "source": [
        "x = df[\"studytime\"]\n",
        "y = df[\"G3\"]\n",
        "\n",
        "# Spearman correlation\n",
        "spearman_corr, _ = spearmanr(x, y)\n",
        "print(\"Spearman Correlation:\", spearman_corr)"
      ],
      "id": "p5ACyZE8vqrC"
    },
    {
      "cell_type": "code",
      "execution_count": null,
      "metadata": {
        "colab": {
          "background_save": true,
          "base_uri": "https://localhost:8080/",
          "height": 475
        },
        "id": "cb6a0959",
        "outputId": "b5a651da-927a-471d-cf18-1770400c1041"
      },
      "outputs": [
        {
          "data": {
            "text/plain": [
              "<Axes: xlabel='studytime', ylabel='G3'>"
            ]
          },
          "execution_count": 91,
          "metadata": {},
          "output_type": "execute_result"
        },
        {
          "data": {
            "image/png": "[encoded data removed]",
            "text/plain": [
              "<Figure size 640x480 with 1 Axes>"
            ]
          },
          "metadata": {},
          "output_type": "display_data"
        }
      ],
      "source": [
        "sns.regplot(x='studytime', y='G3', data=df)"
      ],
      "id": "cb6a0959"
    },
    {
      "cell_type": "markdown",
      "metadata": {
        "id": "Y6C4p7wylWFX"
      },
      "source": [
        "# traveltime vs. Grade"
      ],
      "id": "Y6C4p7wylWFX"
    },
    {
      "cell_type": "code",
      "execution_count": null,
      "metadata": {
        "colab": {
          "background_save": true,
          "base_uri": "https://localhost:8080/"
        },
        "id": "AcEuwM5bvv25",
        "outputId": "e06aa27e-2fd6-454a-a311-90b3840c5d1e"
      },
      "outputs": [
        {
          "name": "stdout",
          "output_type": "stream",
          "text": [
            "Spearman Correlation: -0.12053038660352437\n"
          ]
        }
      ],
      "source": [
        "x = df[\"traveltime\"]\n",
        "y = df[\"G3\"]\n",
        "\n",
        "# Spearman correlation\n",
        "spearman_corr, _ = spearmanr(x, y)\n",
        "print(\"Spearman Correlation:\", spearman_corr)"
      ],
      "id": "AcEuwM5bvv25"
    },
    {
      "cell_type": "code",
      "execution_count": null,
      "metadata": {
        "colab": {
          "background_save": true,
          "base_uri": "https://localhost:8080/",
          "height": 475
        },
        "id": "699c6b3c",
        "outputId": "c8d789be-c28f-4d5c-bfbe-576ccb69f17a"
      },
      "outputs": [
        {
          "data": {
            "text/plain": [
              "<Axes: xlabel='traveltime', ylabel='G3'>"
            ]
          },
          "execution_count": 93,
          "metadata": {},
          "output_type": "execute_result"
        },
        {
          "data": {
            "image/png": "[encoded data removed]",
            "text/plain": [
              "<Figure size 640x480 with 1 Axes>"
            ]
          },
          "metadata": {},
          "output_type": "display_data"
        }
      ],
      "source": [
        "sns.regplot(x='traveltime', y='G3', data=df)"
      ],
      "id": "699c6b3c"
    },
    {
      "cell_type": "markdown",
      "metadata": {
        "id": "535f5137"
      },
      "source": [
        "Another batch of expected results. Students who study more score better on tests and quizzes. In contrast, students who travel more perform worse on tests and quizzes.\n",
        "\n",
        "### Conclusion\n",
        "* This section confirmed the obvious: students who study more receive better grades whereas students who travel more or study less receive lower grades."
      ],
      "id": "535f5137"
    },
    {
      "cell_type": "code",
      "execution_count": null,
      "metadata": {
        "colab": {
          "background_save": true
        },
        "id": "2c1acd1a"
      },
      "outputs": [],
      "source": [
        "new_df = pd.get_dummies(df, columns=['school','sex','address','famsize','Pstatus','Mjob','Fjob','reason','guardian','schoolsup','famsup','paid','activities','nursery','higher','internet',\n",
        " 'romantic'])"
      ],
      "id": "2c1acd1a"
    },
    {
      "cell_type": "code",
      "execution_count": null,
      "metadata": {
        "colab": {
          "background_save": true
        },
        "id": "259ba144"
      },
      "outputs": [],
      "source": [
        "X = new_df.drop('G3', axis=1).values\n",
        "y = new_df['G3'].values"
      ],
      "id": "259ba144"
    },
    {
      "cell_type": "code",
      "execution_count": null,
      "metadata": {
        "colab": {
          "background_save": true,
          "base_uri": "https://localhost:8080/"
        },
        "id": "81778651",
        "outputId": "02dab4ba-a1fe-4395-eb17-2f365d37afa1"
      },
      "outputs": [
        {
          "data": {
            "text/plain": [
              "((276, 62), (276,), (119, 62), (119,))"
            ]
          },
          "execution_count": 96,
          "metadata": {},
          "output_type": "execute_result"
        }
      ],
      "source": [
        "from sklearn.model_selection import train_test_split\n",
        "X_train, X_test, y_train, y_test = train_test_split(X, y, test_size=0.3, random_state=42)\n",
        "X_train.shape, y_train.shape, X_test.shape, y_test.shape"
      ],
      "id": "81778651"
    },
    {
      "cell_type": "code",
      "execution_count": null,
      "metadata": {
        "colab": {
          "background_save": true
        },
        "id": "aa5e34e2"
      },
      "outputs": [],
      "source": [
        "# Scaling the data using pipeline\n",
        "from sklearn.preprocessing import StandardScaler\n",
        "from sklearn.pipeline import Pipeline\n",
        "\n",
        "pipeline = Pipeline([\n",
        "    ('std_scalar', StandardScaler())\n",
        "])\n",
        "\n",
        "X_train = pipeline.fit_transform(X_train)\n",
        "X_test = pipeline.transform(X_test)"
      ],
      "id": "aa5e34e2"
    },
    {
      "cell_type": "markdown",
      "metadata": {
        "id": "281b1105"
      },
      "source": [
        "# Modling"
      ],
      "id": "281b1105"
    },
    {
      "cell_type": "code",
      "execution_count": null,
      "metadata": {
        "colab": {
          "background_save": true,
          "base_uri": "https://localhost:8080/",
          "height": 74
        },
        "id": "6ef3d5f2",
        "outputId": "440fbaeb-7f2c-443b-fa5f-e8690ac249af"
      },
      "outputs": [
        {
          "data": {
            "text/html": [
              "<style>#sk-container-id-3 {color: black;background-color: white;}#sk-container-id-3 pre{padding: 0;}#sk-container-id-3 div.sk-toggleable {background-color: white;}#sk-container-id-3 label.sk-toggleable__label {cursor: pointer;display: block;width: 100%;margin-bottom: 0;padding: 0.3em;box-sizing: border-box;text-align: center;}#sk-container-id-3 label.sk-toggleable__label-arrow:before {content: \"▸\";float: left;margin-right: 0.25em;color: #696969;}#sk-container-id-3 label.sk-toggleable__label-arrow:hover:before {color: black;}#sk-container-id-3 div.sk-estimator:hover label.sk-toggleable__label-arrow:before {color: black;}#sk-container-id-3 div.sk-toggleable__content {max-height: 0;max-width: 0;overflow: hidden;text-align: left;background-color: #f0f8ff;}#sk-container-id-3 div.sk-toggleable__content pre {margin: 0.2em;color: black;border-radius: 0.25em;background-color: #f0f8ff;}#sk-container-id-3 input.sk-toggleable__control:checked~div.sk-toggleable__content {max-height: 200px;max-width: 100%;overflow: auto;}#sk-container-id-3 input.sk-toggleable__control:checked~label.sk-toggleable__label-arrow:before {content: \"▾\";}#sk-container-id-3 div.sk-estimator input.sk-toggleable__control:checked~label.sk-toggleable__label {background-color: #d4ebff;}#sk-container-id-3 div.sk-label input.sk-toggleable__control:checked~label.sk-toggleable__label {background-color: #d4ebff;}#sk-container-id-3 input.sk-hidden--visually {border: 0;clip: rect(1px 1px 1px 1px);clip: rect(1px, 1px, 1px, 1px);height: 1px;margin: -1px;overflow: hidden;padding: 0;position: absolute;width: 1px;}#sk-container-id-3 div.sk-estimator {font-family: monospace;background-color: #f0f8ff;border: 1px dotted black;border-radius: 0.25em;box-sizing: border-box;margin-bottom: 0.5em;}#sk-container-id-3 div.sk-estimator:hover {background-color: #d4ebff;}#sk-container-id-3 div.sk-parallel-item::after {content: \"\";width: 100%;border-bottom: 1px solid gray;flex-grow: 1;}#sk-container-id-3 div.sk-label:hover label.sk-toggleable__label {background-color: #d4ebff;}#sk-container-id-3 div.sk-serial::before {content: \"\";position: absolute;border-left: 1px solid gray;box-sizing: border-box;top: 0;bottom: 0;left: 50%;z-index: 0;}#sk-container-id-3 div.sk-serial {display: flex;flex-direction: column;align-items: center;background-color: white;padding-right: 0.2em;padding-left: 0.2em;position: relative;}#sk-container-id-3 div.sk-item {position: relative;z-index: 1;}#sk-container-id-3 div.sk-parallel {display: flex;align-items: stretch;justify-content: center;background-color: white;position: relative;}#sk-container-id-3 div.sk-item::before, #sk-container-id-3 div.sk-parallel-item::before {content: \"\";position: absolute;border-left: 1px solid gray;box-sizing: border-box;top: 0;bottom: 0;left: 50%;z-index: -1;}#sk-container-id-3 div.sk-parallel-item {display: flex;flex-direction: column;z-index: 1;position: relative;background-color: white;}#sk-container-id-3 div.sk-parallel-item:first-child::after {align-self: flex-end;width: 50%;}#sk-container-id-3 div.sk-parallel-item:last-child::after {align-self: flex-start;width: 50%;}#sk-container-id-3 div.sk-parallel-item:only-child::after {width: 0;}#sk-container-id-3 div.sk-dashed-wrapped {border: 1px dashed gray;margin: 0 0.4em 0.5em 0.4em;box-sizing: border-box;padding-bottom: 0.4em;background-color: white;}#sk-container-id-3 div.sk-label label {font-family: monospace;font-weight: bold;display: inline-block;line-height: 1.2em;}#sk-container-id-3 div.sk-label-container {text-align: center;}#sk-container-id-3 div.sk-container {/* jupyter's `normalize.less` sets `[hidden] { display: none; }` but bootstrap.min.css set `[hidden] { display: none !important; }` so we also need the `!important` here to be able to override the default hidden behavior on the sphinx rendered scikit-learn.org. See: https://github.com/scikit-learn/scikit-learn/issues/21755 */display: inline-block !important;position: relative;}#sk-container-id-3 div.sk-text-repr-fallback {display: none;}</style><div id=\"sk-container-id-3\" class=\"sk-top-container\"><div class=\"sk-text-repr-fallback\"><pre>LinearRegression()</pre><b>In a Jupyter environment, please rerun this cell to show the HTML representation or trust the notebook. <br />On GitHub, the HTML representation is unable to render, please try loading this page with nbviewer.org.</b></div><div class=\"sk-container\" hidden><div class=\"sk-item\"><div class=\"sk-estimator sk-toggleable\"><input class=\"sk-toggleable__control sk-hidden--visually\" id=\"sk-estimator-id-3\" type=\"checkbox\" checked><label for=\"sk-estimator-id-3\" class=\"sk-toggleable__label sk-toggleable__label-arrow\">LinearRegression</label><div class=\"sk-toggleable__content\"><pre>LinearRegression()</pre></div></div></div></div></div>"
            ],
            "text/plain": [
              "LinearRegression()"
            ]
          },
          "execution_count": 98,
          "metadata": {},
          "output_type": "execute_result"
        }
      ],
      "source": [
        "from sklearn.linear_model import LinearRegression\n",
        "# initializing the algorithm\n",
        "model = LinearRegression()\n",
        "\n",
        "# Fitting Simple Linear Regression to the Training set\n",
        "model.fit(X_train,y_train)"
      ],
      "id": "6ef3d5f2"
    },
    {
      "cell_type": "markdown",
      "metadata": {
        "id": "9hp6KJEnfZp8"
      },
      "source": [
        "![Image Description](data:image/jpeg;base64,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)"
      ],
      "id": "9hp6KJEnfZp8"
    },
    {
      "cell_type": "code",
      "execution_count": null,
      "metadata": {
        "colab": {
          "background_save": true,
          "base_uri": "https://localhost:8080/"
        },
        "id": "UxmDLT-ZfZEe",
        "outputId": "84382dcb-e5a5-4a57-baa2-f8396839a723"
      },
      "outputs": [
        {
          "data": {
            "text/plain": [
              "10.444062678818181"
            ]
          },
          "execution_count": 99,
          "metadata": {},
          "output_type": "execute_result"
        }
      ],
      "source": [
        "model.intercept_"
      ],
      "id": "UxmDLT-ZfZEe"
    },
    {
      "cell_type": "code",
      "execution_count": null,
      "metadata": {
        "colab": {
          "background_save": true,
          "base_uri": "https://localhost:8080/"
        },
        "id": "kZaL5XJefZAm",
        "outputId": "ec68b0d9-0002-4237-80c7-626d0bb8fb31"
      },
      "outputs": [
        {
          "data": {
            "text/plain": [
              "array([-0.06269875,  0.02675509, -0.17221425,  0.10637956, -0.03115917])"
            ]
          },
          "execution_count": 100,
          "metadata": {},
          "output_type": "execute_result"
        }
      ],
      "source": [
        "model.coef_[:5]"
      ],
      "id": "kZaL5XJefZAm"
    },
    {
      "cell_type": "code",
      "execution_count": null,
      "metadata": {
        "colab": {
          "background_save": true,
          "base_uri": "https://localhost:8080/"
        },
        "id": "6md9mkCmfY-J",
        "outputId": "2ae84d6d-38e9-4886-e948-bd0419a94800"
      },
      "outputs": [
        {
          "name": "stdout",
          "output_type": "stream",
          "text": [
            "The equation of the regression line is: Y = 10.44 + -0.06X\n"
          ]
        }
      ],
      "source": [
        "slope = model.coef_[0]\n",
        "intercept = model.intercept_\n",
        "# Print the equation of the regression line\n",
        "print(f\"The equation of the regression line is: Y = {intercept:.2f} + {slope:.2f}X\")"
      ],
      "id": "6md9mkCmfY-J"
    },
    {
      "cell_type": "code",
      "execution_count": null,
      "metadata": {
        "colab": {
          "background_save": true,
          "base_uri": "https://localhost:8080/"
        },
        "id": "W9alHEflhJKu",
        "outputId": "f0b3b30f-03c3-4f3a-efe3-532e0d457749"
      },
      "outputs": [
        {
          "data": {
            "text/plain": [
              "((276, 62), (276,))"
            ]
          },
          "execution_count": 102,
          "metadata": {},
          "output_type": "execute_result"
        }
      ],
      "source": [
        "X_train.shape , y_train.shape"
      ],
      "id": "W9alHEflhJKu"
    },
    {
      "cell_type": "code",
      "execution_count": null,
      "metadata": {
        "colab": {
          "background_save": true,
          "base_uri": "https://localhost:8080/"
        },
        "id": "nXOr20IqmCTj",
        "outputId": "46bd4f4d-0f54-4560-e590-15d79b09b006"
      },
      "outputs": [
        {
          "data": {
            "text/plain": [
              "array([ 6.03210483, 11.59184082,  2.79887207,  8.59184082,  8.71960483])"
            ]
          },
          "execution_count": 103,
          "metadata": {},
          "output_type": "execute_result"
        }
      ],
      "source": [
        "y_pred = model.predict(X_test)\n",
        "y_pred[:5]"
      ],
      "id": "nXOr20IqmCTj"
    },
    {
      "cell_type": "code",
      "execution_count": null,
      "metadata": {
        "colab": {
          "background_save": true,
          "base_uri": "https://localhost:8080/",
          "height": 480
        },
        "id": "C5JOfBpRlVit",
        "outputId": "3ed201ba-f6ba-4b68-c683-119737af88cc"
      },
      "outputs": [
        {
          "data": {
            "image/png": "[encoded data removed]",
            "text/plain": [
              "<Figure size 640x480 with 1 Axes>"
            ]
          },
          "metadata": {},
          "output_type": "display_data"
        }
      ],
      "source": [
        "import matplotlib.pyplot as plt\n",
        "import numpy as np\n",
        "\n",
        "# Assuming model.predict(X_train) returns the predicted target values\n",
        "predicted_values = model.predict(X_train)\n",
        "\n",
        "# Scatter plot of the actual target values and the predicted values\n",
        "plt.scatter(y_train, predicted_values, color='blue', label='Actual vs. Predicted')\n",
        "\n",
        "# Adding the best-fit line (diagonal line representing perfect prediction)\n",
        "plt.plot([y_train.min(), y_train.max()], [y_train.min(), y_train.max()], color='red', linestyle='--', label='Best-fit line')\n",
        "\n",
        "# Adding labels and title\n",
        "plt.title('Actual vs. Predicted Values')\n",
        "plt.xlabel('Actual Values')\n",
        "plt.ylabel('Predicted Values')\n",
        "plt.legend()\n",
        "plt.show()\n"
      ],
      "id": "C5JOfBpRlVit"
    },
    {
      "cell_type": "markdown",
      "metadata": {
        "id": "nTEMVi4cmEJr"
      },
      "source": [
        "![Image Description](data:image/png;base64,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)"
      ],
      "id": "nTEMVi4cmEJr"
    },
    {
      "cell_type": "code",
      "execution_count": 107,
      "metadata": {
        "colab": {
          "base_uri": "https://localhost:8080/"
        },
        "id": "Hu0tTozqfzQ_",
        "outputId": "946dcd10-5573-4a52-a1e0-40822ce00957"
      },
      "outputs": [
        {
          "output_type": "execute_result",
          "data": {
            "text/plain": [
              "1.5529339000929332"
            ]
          },
          "metadata": {},
          "execution_count": 107
        }
      ],
      "source": [
        "from sklearn.metrics import mean_absolute_error, mean_squared_error\n",
        "mean_absolute_error(y_test,y_pred)"
      ],
      "id": "Hu0tTozqfzQ_"
    },
    {
      "cell_type": "code",
      "source": [
        "mean_squared_error(y_test,y_pred)"
      ],
      "metadata": {
        "colab": {
          "base_uri": "https://localhost:8080/"
        },
        "id": "ohDBGlICmwvF",
        "outputId": "7dc43ccf-6f08-498a-8f9f-01b0f33faf6d"
      },
      "id": "ohDBGlICmwvF",
      "execution_count": 108,
      "outputs": [
        {
          "output_type": "execute_result",
          "data": {
            "text/plain": [
              "4.999878704389067"
            ]
          },
          "metadata": {},
          "execution_count": 108
        }
      ]
    }
  ],
  "metadata": {
    "colab": {
      "provenance": []
    },
    "kaggle": {
      "accelerator": "none",
      "dataSources": [
        {
          "datasetId": 2213802,
          "sourceId": 3700232,
          "sourceType": "datasetVersion"
        }
      ],
      "dockerImageVersionId": 30558,
      "isGpuEnabled": false,
      "isInternetEnabled": true,
      "language": "python",
      "sourceType": "notebook"
    },
    "kernelspec": {
      "display_name": "Python 3",
      "language": "python",
      "name": "python3"
    },
    "language_info": {
      "codemirror_mode": {
        "name": "ipython",
        "version": 3
      },
      "file_extension": ".py",
      "mimetype": "text/x-python",
      "name": "python",
      "nbconvert_exporter": "python",
      "pygments_lexer": "ipython3",
      "version": "3.10.12"
    },
    "papermill": {
      "default_parameters": {},
      "duration": 93.861201,
      "end_time": "2023-12-12T17:38:30.789482",
      "environment_variables": {},
      "exception": null,
      "input_path": "__notebook__.ipynb",
      "output_path": "__notebook__.ipynb",
      "parameters": {},
      "start_time": "2023-12-12T17:36:56.928281",
      "version": "2.4.0"
    }
  },
  "nbformat": 4,
  "nbformat_minor": 5
}